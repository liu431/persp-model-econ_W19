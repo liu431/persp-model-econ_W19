{
 "cells": [
  {
   "cell_type": "code",
   "execution_count": 145,
   "metadata": {},
   "outputs": [],
   "source": [
    "import pandas as pd\n",
    "import numpy as np\n",
    "import matplotlib.pyplot as plt\n",
    "plt.style.use('seaborn')\n",
    "from pandas.plotting import scatter_matrix\n",
    "import statsmodels.api as sm"
   ]
  },
  {
   "cell_type": "markdown",
   "metadata": {},
   "source": [
    "## Problem 1"
   ]
  },
  {
   "cell_type": "code",
   "execution_count": 146,
   "metadata": {},
   "outputs": [
    {
     "data": {
      "text/html": [
       "<div>\n",
       "<style scoped>\n",
       "    .dataframe tbody tr th:only-of-type {\n",
       "        vertical-align: middle;\n",
       "    }\n",
       "\n",
       "    .dataframe tbody tr th {\n",
       "        vertical-align: top;\n",
       "    }\n",
       "\n",
       "    .dataframe thead th {\n",
       "        text-align: right;\n",
       "    }\n",
       "</style>\n",
       "<table border=\"1\" class=\"dataframe\">\n",
       "  <thead>\n",
       "    <tr style=\"text-align: right;\">\n",
       "      <th></th>\n",
       "      <th>mpg</th>\n",
       "      <th>cylinders</th>\n",
       "      <th>displacement</th>\n",
       "      <th>horsepower</th>\n",
       "      <th>weight</th>\n",
       "      <th>acceleration</th>\n",
       "      <th>year</th>\n",
       "      <th>origin</th>\n",
       "      <th>name</th>\n",
       "    </tr>\n",
       "  </thead>\n",
       "  <tbody>\n",
       "    <tr>\n",
       "      <th>0</th>\n",
       "      <td>18.0</td>\n",
       "      <td>8</td>\n",
       "      <td>307.0</td>\n",
       "      <td>130.0</td>\n",
       "      <td>3504</td>\n",
       "      <td>12.0</td>\n",
       "      <td>70</td>\n",
       "      <td>1</td>\n",
       "      <td>chevrolet chevelle malibu</td>\n",
       "    </tr>\n",
       "    <tr>\n",
       "      <th>1</th>\n",
       "      <td>15.0</td>\n",
       "      <td>8</td>\n",
       "      <td>350.0</td>\n",
       "      <td>165.0</td>\n",
       "      <td>3693</td>\n",
       "      <td>11.5</td>\n",
       "      <td>70</td>\n",
       "      <td>1</td>\n",
       "      <td>buick skylark 320</td>\n",
       "    </tr>\n",
       "    <tr>\n",
       "      <th>2</th>\n",
       "      <td>18.0</td>\n",
       "      <td>8</td>\n",
       "      <td>318.0</td>\n",
       "      <td>150.0</td>\n",
       "      <td>3436</td>\n",
       "      <td>11.0</td>\n",
       "      <td>70</td>\n",
       "      <td>1</td>\n",
       "      <td>plymouth satellite</td>\n",
       "    </tr>\n",
       "    <tr>\n",
       "      <th>3</th>\n",
       "      <td>16.0</td>\n",
       "      <td>8</td>\n",
       "      <td>304.0</td>\n",
       "      <td>150.0</td>\n",
       "      <td>3433</td>\n",
       "      <td>12.0</td>\n",
       "      <td>70</td>\n",
       "      <td>1</td>\n",
       "      <td>amc rebel sst</td>\n",
       "    </tr>\n",
       "    <tr>\n",
       "      <th>4</th>\n",
       "      <td>17.0</td>\n",
       "      <td>8</td>\n",
       "      <td>302.0</td>\n",
       "      <td>140.0</td>\n",
       "      <td>3449</td>\n",
       "      <td>10.5</td>\n",
       "      <td>70</td>\n",
       "      <td>1</td>\n",
       "      <td>ford torino</td>\n",
       "    </tr>\n",
       "  </tbody>\n",
       "</table>\n",
       "</div>"
      ],
      "text/plain": [
       "    mpg  cylinders  displacement  horsepower  weight  acceleration  year  \\\n",
       "0  18.0          8         307.0       130.0    3504          12.0    70   \n",
       "1  15.0          8         350.0       165.0    3693          11.5    70   \n",
       "2  18.0          8         318.0       150.0    3436          11.0    70   \n",
       "3  16.0          8         304.0       150.0    3433          12.0    70   \n",
       "4  17.0          8         302.0       140.0    3449          10.5    70   \n",
       "\n",
       "   origin                       name  \n",
       "0       1  chevrolet chevelle malibu  \n",
       "1       1          buick skylark 320  \n",
       "2       1         plymouth satellite  \n",
       "3       1              amc rebel sst  \n",
       "4       1                ford torino  "
      ]
     },
     "execution_count": 146,
     "metadata": {},
     "output_type": "execute_result"
    }
   ],
   "source": [
    "#a. read in data\n",
    "df=pd.read_csv(\"Auto.csv\", na_values='?')\n",
    "df.head()"
   ]
  },
  {
   "cell_type": "code",
   "execution_count": 147,
   "metadata": {},
   "outputs": [
    {
     "data": {
      "image/png": "[encoded data removed]",
      "text/plain": [
       "<Figure size 432x432 with 64 Axes>"
      ]
     },
     "metadata": {},
     "output_type": "display_data"
    }
   ],
   "source": [
    "#b. scatterplot matrix\n",
    "df.dropna(inplace=True)\n",
    "\n",
    "df_quant=df[['mpg','cylinders','displacement','horsepower',\n",
    "             'weight','acceleration','year','origin']]\n",
    "df_quant=df_quant.astype(float)\n",
    "scatter_matrix(df_quant, alpha=0.3, ax=None, figsize=(6,6),diagonal='kde')\n",
    "plt.show()"
   ]
  },
  {
   "cell_type": "code",
   "execution_count": 148,
   "metadata": {},
   "outputs": [
    {
     "data": {
      "text/html": [
       "<div>\n",
       "<style scoped>\n",
       "    .dataframe tbody tr th:only-of-type {\n",
       "        vertical-align: middle;\n",
       "    }\n",
       "\n",
       "    .dataframe tbody tr th {\n",
       "        vertical-align: top;\n",
       "    }\n",
       "\n",
       "    .dataframe thead th {\n",
       "        text-align: right;\n",
       "    }\n",
       "</style>\n",
       "<table border=\"1\" class=\"dataframe\">\n",
       "  <thead>\n",
       "    <tr style=\"text-align: right;\">\n",
       "      <th></th>\n",
       "      <th>mpg</th>\n",
       "      <th>cylinders</th>\n",
       "      <th>displacement</th>\n",
       "      <th>horsepower</th>\n",
       "      <th>weight</th>\n",
       "      <th>acceleration</th>\n",
       "      <th>year</th>\n",
       "      <th>origin</th>\n",
       "    </tr>\n",
       "  </thead>\n",
       "  <tbody>\n",
       "    <tr>\n",
       "      <th>mpg</th>\n",
       "      <td>1.000000</td>\n",
       "      <td>-0.777618</td>\n",
       "      <td>-0.805127</td>\n",
       "      <td>-0.778427</td>\n",
       "      <td>-0.832244</td>\n",
       "      <td>0.423329</td>\n",
       "      <td>0.580541</td>\n",
       "      <td>0.565209</td>\n",
       "    </tr>\n",
       "    <tr>\n",
       "      <th>cylinders</th>\n",
       "      <td>-0.777618</td>\n",
       "      <td>1.000000</td>\n",
       "      <td>0.950823</td>\n",
       "      <td>0.842983</td>\n",
       "      <td>0.897527</td>\n",
       "      <td>-0.504683</td>\n",
       "      <td>-0.345647</td>\n",
       "      <td>-0.568932</td>\n",
       "    </tr>\n",
       "    <tr>\n",
       "      <th>displacement</th>\n",
       "      <td>-0.805127</td>\n",
       "      <td>0.950823</td>\n",
       "      <td>1.000000</td>\n",
       "      <td>0.897257</td>\n",
       "      <td>0.932994</td>\n",
       "      <td>-0.543800</td>\n",
       "      <td>-0.369855</td>\n",
       "      <td>-0.614535</td>\n",
       "    </tr>\n",
       "    <tr>\n",
       "      <th>horsepower</th>\n",
       "      <td>-0.778427</td>\n",
       "      <td>0.842983</td>\n",
       "      <td>0.897257</td>\n",
       "      <td>1.000000</td>\n",
       "      <td>0.864538</td>\n",
       "      <td>-0.689196</td>\n",
       "      <td>-0.416361</td>\n",
       "      <td>-0.455171</td>\n",
       "    </tr>\n",
       "    <tr>\n",
       "      <th>weight</th>\n",
       "      <td>-0.832244</td>\n",
       "      <td>0.897527</td>\n",
       "      <td>0.932994</td>\n",
       "      <td>0.864538</td>\n",
       "      <td>1.000000</td>\n",
       "      <td>-0.416839</td>\n",
       "      <td>-0.309120</td>\n",
       "      <td>-0.585005</td>\n",
       "    </tr>\n",
       "    <tr>\n",
       "      <th>acceleration</th>\n",
       "      <td>0.423329</td>\n",
       "      <td>-0.504683</td>\n",
       "      <td>-0.543800</td>\n",
       "      <td>-0.689196</td>\n",
       "      <td>-0.416839</td>\n",
       "      <td>1.000000</td>\n",
       "      <td>0.290316</td>\n",
       "      <td>0.212746</td>\n",
       "    </tr>\n",
       "    <tr>\n",
       "      <th>year</th>\n",
       "      <td>0.580541</td>\n",
       "      <td>-0.345647</td>\n",
       "      <td>-0.369855</td>\n",
       "      <td>-0.416361</td>\n",
       "      <td>-0.309120</td>\n",
       "      <td>0.290316</td>\n",
       "      <td>1.000000</td>\n",
       "      <td>0.181528</td>\n",
       "    </tr>\n",
       "    <tr>\n",
       "      <th>origin</th>\n",
       "      <td>0.565209</td>\n",
       "      <td>-0.568932</td>\n",
       "      <td>-0.614535</td>\n",
       "      <td>-0.455171</td>\n",
       "      <td>-0.585005</td>\n",
       "      <td>0.212746</td>\n",
       "      <td>0.181528</td>\n",
       "      <td>1.000000</td>\n",
       "    </tr>\n",
       "  </tbody>\n",
       "</table>\n",
       "</div>"
      ],
      "text/plain": [
       "                   mpg  cylinders  displacement  horsepower    weight  \\\n",
       "mpg           1.000000  -0.777618     -0.805127   -0.778427 -0.832244   \n",
       "cylinders    -0.777618   1.000000      0.950823    0.842983  0.897527   \n",
       "displacement -0.805127   0.950823      1.000000    0.897257  0.932994   \n",
       "horsepower   -0.778427   0.842983      0.897257    1.000000  0.864538   \n",
       "weight       -0.832244   0.897527      0.932994    0.864538  1.000000   \n",
       "acceleration  0.423329  -0.504683     -0.543800   -0.689196 -0.416839   \n",
       "year          0.580541  -0.345647     -0.369855   -0.416361 -0.309120   \n",
       "origin        0.565209  -0.568932     -0.614535   -0.455171 -0.585005   \n",
       "\n",
       "              acceleration      year    origin  \n",
       "mpg               0.423329  0.580541  0.565209  \n",
       "cylinders        -0.504683 -0.345647 -0.568932  \n",
       "displacement     -0.543800 -0.369855 -0.614535  \n",
       "horsepower       -0.689196 -0.416361 -0.455171  \n",
       "weight           -0.416839 -0.309120 -0.585005  \n",
       "acceleration      1.000000  0.290316  0.212746  \n",
       "year              0.290316  1.000000  0.181528  \n",
       "origin            0.212746  0.181528  1.000000  "
      ]
     },
     "execution_count": 148,
     "metadata": {},
     "output_type": "execute_result"
    }
   ],
   "source": [
    "#c. correlation matrix\n",
    "df_quant.corr()"
   ]
  },
  {
   "cell_type": "code",
   "execution_count": 149,
   "metadata": {},
   "outputs": [
    {
     "name": "stdout",
     "output_type": "stream",
     "text": [
      "                            OLS Regression Results                            \n",
      "==============================================================================\n",
      "Dep. Variable:                    mpg   R-squared:                       0.821\n",
      "Model:                            OLS   Adj. R-squared:                  0.818\n",
      "Method:                 Least Squares   F-statistic:                     252.4\n",
      "Date:                Sun, 17 Feb 2019   Prob (F-statistic):          2.04e-139\n",
      "Time:                        09:20:43   Log-Likelihood:                -1023.5\n",
      "No. Observations:                 392   AIC:                             2063.\n",
      "Df Residuals:                     384   BIC:                             2095.\n",
      "Df Model:                           7                                         \n",
      "Covariance Type:            nonrobust                                         \n",
      "================================================================================\n",
      "                   coef    std err          t      P>|t|      [0.025      0.975]\n",
      "--------------------------------------------------------------------------------\n",
      "const          -17.2184      4.644     -3.707      0.000     -26.350      -8.087\n",
      "cylinders       -0.4934      0.323     -1.526      0.128      -1.129       0.142\n",
      "displacement     0.0199      0.008      2.647      0.008       0.005       0.035\n",
      "horsepower      -0.0170      0.014     -1.230      0.220      -0.044       0.010\n",
      "weight          -0.0065      0.001     -9.929      0.000      -0.008      -0.005\n",
      "acceleration     0.0806      0.099      0.815      0.415      -0.114       0.275\n",
      "year             0.7508      0.051     14.729      0.000       0.651       0.851\n",
      "origin           1.4261      0.278      5.127      0.000       0.879       1.973\n",
      "==============================================================================\n",
      "Omnibus:                       31.906   Durbin-Watson:                   1.309\n",
      "Prob(Omnibus):                  0.000   Jarque-Bera (JB):               53.100\n",
      "Skew:                           0.529   Prob(JB):                     2.95e-12\n",
      "Kurtosis:                       4.460   Cond. No.                     8.59e+04\n",
      "==============================================================================\n",
      "\n",
      "Warnings:\n",
      "[1] Standard Errors assume that the covariance matrix of the errors is correctly specified.\n",
      "[2] The condition number is large, 8.59e+04. This might indicate that there are\n",
      "strong multicollinearity or other numerical problems.\n"
     ]
    }
   ],
   "source": [
    "#d. multiple linear regression model\n",
    "Y=df_quant['mpg']\n",
    "X = sm.add_constant(df_quant[['cylinders','displacement','horsepower','weight',\n",
    "                              'acceleration','year','origin']])\n",
    "reg1 = sm.OLS(Y, X)\n",
    "results = reg1.fit()\n",
    "print(results.summary())"
   ]
  },
  {
   "cell_type": "markdown",
   "metadata": {},
   "source": [
    "i). Coefficients of displacements, weight, year, and origin are statisticaly significant at the 1% level.\n",
    "\n",
    "ii). Coefficients of Cylinders, horsepower, acceleration are not statisticaly significant at the 10% level.\n",
    "\n",
    "iii). Ceteris paribus, one more year is associated with 0.75 unit increase in mpg."
   ]
  },
  {
   "cell_type": "code",
   "execution_count": 150,
   "metadata": {},
   "outputs": [
    {
     "name": "stdout",
     "output_type": "stream",
     "text": [
      "                            OLS Regression Results                            \n",
      "==============================================================================\n",
      "Dep. Variable:                    mpg   R-squared:                       0.858\n",
      "Model:                            OLS   Adj. R-squared:                  0.853\n",
      "Method:                 Least Squares   F-statistic:                     207.9\n",
      "Date:                Sun, 17 Feb 2019   Prob (F-statistic):          2.99e-153\n",
      "Time:                        09:20:43   Log-Likelihood:                -979.27\n",
      "No. Observations:                 392   AIC:                             1983.\n",
      "Df Residuals:                     380   BIC:                             2030.\n",
      "Df Model:                          11                                         \n",
      "Covariance Type:            nonrobust                                         \n",
      "==================================================================================\n",
      "                     coef    std err          t      P>|t|      [0.025      0.975]\n",
      "----------------------------------------------------------------------------------\n",
      "const             -0.2019      7.474     -0.027      0.978     -14.897      14.493\n",
      "cylinders          1.7741      1.483      1.196      0.232      -1.142       4.690\n",
      "displacement      -0.1067      0.018     -5.922      0.000      -0.142      -0.071\n",
      "horsepower        -0.0643      0.013     -4.801      0.000      -0.091      -0.038\n",
      "weight            -0.0037      0.001     -5.415      0.000      -0.005      -0.002\n",
      "acceleration      -1.5294      0.569     -2.689      0.007      -2.648      -0.411\n",
      "year               0.7631      0.047     16.279      0.000       0.671       0.855\n",
      "origin             0.1644      1.942      0.085      0.933      -3.654       3.983\n",
      "cylinders^2       -0.0876      0.119     -0.739      0.461      -0.321       0.146\n",
      "displacement^2     0.0002   2.76e-05      7.310      0.000       0.000       0.000\n",
      "origin^2           0.0627      0.474      0.132      0.895      -0.870       0.995\n",
      "acceleration^2     0.0437      0.016      2.670      0.008       0.012       0.076\n",
      "==============================================================================\n",
      "Omnibus:                       28.423   Durbin-Watson:                   1.460\n",
      "Prob(Omnibus):                  0.000   Jarque-Bera (JB):               63.674\n",
      "Skew:                           0.373   Prob(JB):                     1.49e-14\n",
      "Kurtosis:                       4.828   Cond. No.                     3.47e+06\n",
      "==============================================================================\n",
      "\n",
      "Warnings:\n",
      "[1] Standard Errors assume that the covariance matrix of the errors is correctly specified.\n",
      "[2] The condition number is large, 3.47e+06. This might indicate that there are\n",
      "strong multicollinearity or other numerical problems.\n"
     ]
    }
   ],
   "source": [
    "#e. New Regression\n",
    "df_quant['cylinders^2']=np.square(df_quant['cylinders'])\n",
    "df_quant['displacement^2']=np.square(df_quant['displacement'])\n",
    "df_quant['origin^2']=np.square(df_quant['origin'])\n",
    "df_quant['acceleration^2']=np.square(df_quant['acceleration'])\n",
    "\n",
    "X2 = sm.add_constant(df_quant[['cylinders','displacement','horsepower','weight',\n",
    "                              'acceleration','year','origin',\n",
    "                               'cylinders^2','displacement^2','origin^2','acceleration^2']])\n",
    "reg2 = sm.OLS(Y, X2)\n",
    "results2 = reg2.fit()\n",
    "print(results2.summary())"
   ]
  },
  {
   "cell_type": "markdown",
   "metadata": {},
   "source": [
    "i). Three variables identified are cylinders, displacement, origin.\n",
    "\n",
    "ii). Adjusted $R^2$ is 0.853, which is worse than 0.818 in the first model.\n",
    "\n",
    "iii). They are all statisticaly significant at the 1% level.\n",
    "\n",
    "iv). Cylinders variable is not statisticaly significant at the 5% level."
   ]
  },
  {
   "cell_type": "code",
   "execution_count": 151,
   "metadata": {},
   "outputs": [
    {
     "data": {
      "text/plain": [
       "array([38.67266199])"
      ]
     },
     "execution_count": 151,
     "metadata": {},
     "output_type": "execute_result"
    }
   ],
   "source": [
    "#f. predict value\n",
    "X1=[1,6,200,100,3100,15.1,99,1,6**2, 200**2, 1**2, 15.1**2]\n",
    "results2.predict(X1)"
   ]
  },
  {
   "cell_type": "markdown",
   "metadata": {},
   "source": [
    "The predicted mpg is 39 of a car with cylinders displacement of 200, horsepower of 100, a weight of 3,100, acceleration of 15.1, model year of 1999, and origin of 1."
   ]
  },
  {
   "cell_type": "markdown",
   "metadata": {},
   "source": [
    "## Problem 2"
   ]
  },
  {
   "cell_type": "code",
   "execution_count": 152,
   "metadata": {},
   "outputs": [
    {
     "data": {
      "text/html": [
       "<div>\n",
       "<style scoped>\n",
       "    .dataframe tbody tr th:only-of-type {\n",
       "        vertical-align: middle;\n",
       "    }\n",
       "\n",
       "    .dataframe tbody tr th {\n",
       "        vertical-align: top;\n",
       "    }\n",
       "\n",
       "    .dataframe thead th {\n",
       "        text-align: right;\n",
       "    }\n",
       "</style>\n",
       "<table border=\"1\" class=\"dataframe\">\n",
       "  <thead>\n",
       "    <tr style=\"text-align: right;\">\n",
       "      <th></th>\n",
       "      <th>X1</th>\n",
       "      <th>X2</th>\n",
       "      <th>X3</th>\n",
       "      <th>Y</th>\n",
       "      <th>Dist</th>\n",
       "    </tr>\n",
       "  </thead>\n",
       "  <tbody>\n",
       "    <tr>\n",
       "      <th>1</th>\n",
       "      <td>0</td>\n",
       "      <td>3</td>\n",
       "      <td>0</td>\n",
       "      <td>Red</td>\n",
       "      <td>3.00</td>\n",
       "    </tr>\n",
       "    <tr>\n",
       "      <th>2</th>\n",
       "      <td>2</td>\n",
       "      <td>0</td>\n",
       "      <td>0</td>\n",
       "      <td>Red</td>\n",
       "      <td>2.00</td>\n",
       "    </tr>\n",
       "    <tr>\n",
       "      <th>3</th>\n",
       "      <td>0</td>\n",
       "      <td>1</td>\n",
       "      <td>3</td>\n",
       "      <td>Red</td>\n",
       "      <td>3.16</td>\n",
       "    </tr>\n",
       "    <tr>\n",
       "      <th>4</th>\n",
       "      <td>0</td>\n",
       "      <td>1</td>\n",
       "      <td>2</td>\n",
       "      <td>Green</td>\n",
       "      <td>2.24</td>\n",
       "    </tr>\n",
       "    <tr>\n",
       "      <th>5</th>\n",
       "      <td>-1</td>\n",
       "      <td>0</td>\n",
       "      <td>1</td>\n",
       "      <td>Green</td>\n",
       "      <td>1.41</td>\n",
       "    </tr>\n",
       "    <tr>\n",
       "      <th>6</th>\n",
       "      <td>1</td>\n",
       "      <td>1</td>\n",
       "      <td>1</td>\n",
       "      <td>Red</td>\n",
       "      <td>1.73</td>\n",
       "    </tr>\n",
       "  </tbody>\n",
       "</table>\n",
       "</div>"
      ],
      "text/plain": [
       "   X1  X2  X3      Y  Dist\n",
       "1   0   3   0    Red  3.00\n",
       "2   2   0   0    Red  2.00\n",
       "3   0   1   3    Red  3.16\n",
       "4   0   1   2  Green  2.24\n",
       "5  -1   0   1  Green  1.41\n",
       "6   1   1   1    Red  1.73"
      ]
     },
     "execution_count": 152,
     "metadata": {},
     "output_type": "execute_result"
    }
   ],
   "source": [
    "#Red: 0; Green; 1\n",
    "tab=pd.DataFrame({\"X1\":[0,2,0,0,-1,1], \"X2\":[3,0,1,1,0,1],\n",
    "                 \"X3\":[0,0,3,2,1,1],\"Y\":[\"Red\",\"Red\",\"Red\",\"Green\",\"Green\",\"Red\"]})\n",
    "tab[\"Dist\"]=round(np.sqrt(tab[\"X1\"]**2+tab[\"X2\"]**2+tab[\"X3\"]**2),2)\n",
    "tab.index+=1\n",
    "tab"
   ]
  },
  {
   "cell_type": "markdown",
   "metadata": {},
   "source": [
    "a.\n",
    "\n",
    "D1=3\n",
    "\n",
    "D2=2\n",
    "\n",
    "D3=$\\sqrt10$\n",
    "\n",
    "D4=$\\sqrt5$\n",
    "\n",
    "D5=$\\sqrt2$\n",
    "\n",
    "D6=$\\sqrt3$\n"
   ]
  },
  {
   "cell_type": "markdown",
   "metadata": {},
   "source": [
    "b.\n",
    "\n",
    "The nearest neighbor is the 5th observation (green). So the KNN oprediction is green."
   ]
  },
  {
   "cell_type": "markdown",
   "metadata": {},
   "source": [
    "c.\n",
    "\n",
    "The 3 nearest neighbors are the 2nd, 5th, 6th observations. Their labels are Red, Green, and Red. The probability of being red is larger than being green ($\\frac23 > \\frac13)$). So the KNN prediction is red."
   ]
  },
  {
   "cell_type": "markdown",
   "metadata": {},
   "source": [
    "d. \n",
    "\n",
    "If the optimal Bayes decision boundary is highly nonlinear, it indicates the model has low bias and high variance, which corresponding to small K.\n"
   ]
  },
  {
   "cell_type": "code",
   "execution_count": 153,
   "metadata": {},
   "outputs": [
    {
     "name": "stdout",
     "output_type": "stream",
     "text": [
      "The KNN classifier of the test point X1 = X2 = X3 = 1 with K = 2: Green\n"
     ]
    }
   ],
   "source": [
    "#e.\n",
    "from sklearn.neighbors import KNeighborsClassifier\n",
    "\n",
    "knn = KNeighborsClassifier(n_neighbors = 2)\n",
    "neigh=knn.fit(tab[[\"X1\",\"X2\",\"X3\"]], tab[\"Y\"])\n",
    "print(\"The KNN classifier of the test point X1 = X2 = X3 = 1 with K = 2:\",\n",
    "      neigh.predict([(0,0,0)])[0])\n"
   ]
  },
  {
   "cell_type": "markdown",
   "metadata": {},
   "source": [
    "## Problem 3"
   ]
  },
  {
   "cell_type": "code",
   "execution_count": 154,
   "metadata": {},
   "outputs": [
    {
     "name": "stdout",
     "output_type": "stream",
     "text": [
      "Optimization terminated successfully.\n",
      "         Current function value: 0.200944\n",
      "         Iterations 9\n",
      "                           Logit Regression Results                           \n",
      "==============================================================================\n",
      "Dep. Variable:               mpg high   No. Observations:                  392\n",
      "Model:                          Logit   Df Residuals:                      384\n",
      "Method:                           MLE   Df Model:                            7\n",
      "Date:                Sun, 17 Feb 2019   Pseudo R-squ.:                  0.7101\n",
      "Time:                        09:20:43   Log-Likelihood:                -78.770\n",
      "converged:                       True   LL-Null:                       -271.71\n",
      "                                        LLR p-value:                 2.531e-79\n",
      "================================================================================\n",
      "                   coef    std err          z      P>|z|      [0.025      0.975]\n",
      "--------------------------------------------------------------------------------\n",
      "const          -17.1549      5.764     -2.976      0.003     -28.452      -5.858\n",
      "cylinders       -0.1626      0.423     -0.384      0.701      -0.992       0.667\n",
      "displacement     0.0021      0.012      0.174      0.862      -0.021       0.026\n",
      "horsepower      -0.0410      0.024     -1.718      0.086      -0.088       0.006\n",
      "weight          -0.0043      0.001     -3.784      0.000      -0.007      -0.002\n",
      "acceleration     0.0161      0.141      0.114      0.910      -0.261       0.293\n",
      "year             0.4295      0.075      5.709      0.000       0.282       0.577\n",
      "origin           0.4773      0.362      1.319      0.187      -0.232       1.187\n",
      "================================================================================\n",
      "\n",
      "Possibly complete quasi-separation: A fraction 0.14 of observations can be\n",
      "perfectly predicted. This might indicate that there is complete\n",
      "quasi-separation. In this case some parameters will not be identified.\n"
     ]
    }
   ],
   "source": [
    "#a.\n",
    "df['mpg high']=np.where(df['mpg']>np.median(df['mpg']),1,0)\n",
    "X = sm.add_constant(df_quant[['cylinders','displacement','horsepower','weight',\n",
    "                              'acceleration','year','origin']])\n",
    "log1 = sm.Logit(df['mpg high'], X)\n",
    "resultslog = log1.fit()\n",
    "print(resultslog.summary())"
   ]
  },
  {
   "cell_type": "markdown",
   "metadata": {},
   "source": [
    "Coefficients of weight and Year are statistically significant at the 5% level."
   ]
  },
  {
   "cell_type": "code",
   "execution_count": 155,
   "metadata": {},
   "outputs": [],
   "source": [
    "# b.\n",
    "import sklearn\n",
    "from sklearn.model_selection import train_test_split\n",
    "X_train, X_test, y_train, y_test = train_test_split(X, df['mpg high'], \n",
    "                                                    test_size = 0.5, random_state=10)"
   ]
  },
  {
   "cell_type": "code",
   "execution_count": 156,
   "metadata": {},
   "outputs": [
    {
     "name": "stderr",
     "output_type": "stream",
     "text": [
      "C:\\Users\\lliu9\\Anaconda3\\lib\\site-packages\\sklearn\\linear_model\\logistic.py:433: FutureWarning: Default solver will be changed to 'lbfgs' in 0.22. Specify a solver to silence this warning.\n",
      "  FutureWarning)\n"
     ]
    },
    {
     "data": {
      "text/html": [
       "<div>\n",
       "<style scoped>\n",
       "    .dataframe tbody tr th:only-of-type {\n",
       "        vertical-align: middle;\n",
       "    }\n",
       "\n",
       "    .dataframe tbody tr th {\n",
       "        vertical-align: top;\n",
       "    }\n",
       "\n",
       "    .dataframe thead th {\n",
       "        text-align: right;\n",
       "    }\n",
       "</style>\n",
       "<table border=\"1\" class=\"dataframe\">\n",
       "  <thead>\n",
       "    <tr style=\"text-align: right;\">\n",
       "      <th></th>\n",
       "      <th>Name</th>\n",
       "      <th>Value</th>\n",
       "    </tr>\n",
       "  </thead>\n",
       "  <tbody>\n",
       "    <tr>\n",
       "      <th>0</th>\n",
       "      <td>const</td>\n",
       "      <td>-0.031443</td>\n",
       "    </tr>\n",
       "    <tr>\n",
       "      <th>1</th>\n",
       "      <td>cylinders</td>\n",
       "      <td>-0.325709</td>\n",
       "    </tr>\n",
       "    <tr>\n",
       "      <th>2</th>\n",
       "      <td>displacement</td>\n",
       "      <td>0.000346</td>\n",
       "    </tr>\n",
       "    <tr>\n",
       "      <th>3</th>\n",
       "      <td>horsepower</td>\n",
       "      <td>-0.052389</td>\n",
       "    </tr>\n",
       "    <tr>\n",
       "      <th>4</th>\n",
       "      <td>weight</td>\n",
       "      <td>-0.004914</td>\n",
       "    </tr>\n",
       "    <tr>\n",
       "      <th>5</th>\n",
       "      <td>acceleration</td>\n",
       "      <td>-0.181123</td>\n",
       "    </tr>\n",
       "    <tr>\n",
       "      <th>6</th>\n",
       "      <td>year</td>\n",
       "      <td>0.309457</td>\n",
       "    </tr>\n",
       "    <tr>\n",
       "      <th>7</th>\n",
       "      <td>origin</td>\n",
       "      <td>-0.092646</td>\n",
       "    </tr>\n",
       "  </tbody>\n",
       "</table>\n",
       "</div>"
      ],
      "text/plain": [
       "           Name     Value\n",
       "0         const -0.031443\n",
       "1     cylinders -0.325709\n",
       "2  displacement  0.000346\n",
       "3    horsepower -0.052389\n",
       "4        weight -0.004914\n",
       "5  acceleration -0.181123\n",
       "6          year  0.309457\n",
       "7        origin -0.092646"
      ]
     },
     "execution_count": 156,
     "metadata": {},
     "output_type": "execute_result"
    }
   ],
   "source": [
    "# c.\n",
    "from sklearn.linear_model import LogisticRegression\n",
    "log2 = LogisticRegression().fit(X_train, y_train)\n",
    "coeff=pd.concat([pd.DataFrame(X.columns,columns=[\"Name\"]),\n",
    "                 pd.DataFrame(np.transpose(log2.coef_),columns=[\"Value\"])],axis = 1)\n",
    "coeff"
   ]
  },
  {
   "cell_type": "code",
   "execution_count": 157,
   "metadata": {},
   "outputs": [
    {
     "data": {
      "text/plain": [
       "array([1, 1, 0, 1, 0, 0, 0, 0, 1, 1, 0, 0, 1, 1, 0, 0, 0, 1, 0, 0, 0, 1,\n",
       "       0, 0, 0, 0, 0, 1, 0, 0, 0, 0, 1, 0, 0, 1, 1, 0, 0, 1, 0, 0, 1, 0,\n",
       "       0, 0, 0, 1, 0, 1, 1, 0, 0, 0, 0, 1, 0, 1, 1, 1, 1, 1, 0, 0, 1, 1,\n",
       "       0, 1, 0, 0, 0, 1, 1, 1, 1, 0, 0, 0, 1, 1, 1, 0, 0, 0, 0, 1, 0, 0,\n",
       "       1, 1, 1, 0, 1, 1, 0, 1, 1, 0, 0, 1, 1, 1, 1, 0, 0, 1, 1, 0, 1, 0,\n",
       "       0, 0, 0, 1, 0, 0, 1, 0, 0, 1, 0, 1, 1, 1, 1, 0, 0, 1, 0, 1, 0, 1,\n",
       "       1, 0, 1, 1, 1, 0, 1, 1, 1, 0, 0, 1, 1, 1, 1, 1, 0, 1, 0, 1, 0, 0,\n",
       "       1, 0, 1, 1, 1, 0, 1, 1, 1, 1, 1, 0, 0, 1, 0, 1, 0, 0, 1, 0, 1, 0,\n",
       "       1, 0, 0, 1, 0, 1, 0, 1, 1, 1, 1, 0, 1, 1, 0, 1, 1, 0, 1, 0])"
      ]
     },
     "execution_count": 157,
     "metadata": {},
     "output_type": "execute_result"
    }
   ],
   "source": [
    "# d.\n",
    "y_pred = log2.predict(X_test)\n",
    "y_pred"
   ]
  },
  {
   "cell_type": "code",
   "execution_count": 158,
   "metadata": {},
   "outputs": [
    {
     "data": {
      "text/plain": [
       "array([[86, 13],\n",
       "       [12, 85]], dtype=int64)"
      ]
     },
     "execution_count": 158,
     "metadata": {},
     "output_type": "execute_result"
    }
   ],
   "source": [
    "from sklearn.metrics import confusion_matrix\n",
    "confusion_matrix = confusion_matrix(y_test, y_pred)\n",
    "confusion_matrix"
   ]
  },
  {
   "cell_type": "code",
   "execution_count": 159,
   "metadata": {},
   "outputs": [
    {
     "name": "stdout",
     "output_type": "stream",
     "text": [
      "              precision    recall  f1-score   support\n",
      "\n",
      "           0       0.88      0.87      0.87        99\n",
      "           1       0.87      0.88      0.87        97\n",
      "\n",
      "   micro avg       0.87      0.87      0.87       196\n",
      "   macro avg       0.87      0.87      0.87       196\n",
      "weighted avg       0.87      0.87      0.87       196\n",
      "\n"
     ]
    }
   ],
   "source": [
    "from sklearn.metrics import classification_report\n",
    "print(classification_report(y_test, y_pred))"
   ]
  },
  {
   "cell_type": "markdown",
   "metadata": {},
   "source": [
    "The F1-scores are same. This model predicts equally well on low mpg and high mpg."
   ]
  }
 ],
 "metadata": {
  "kernelspec": {
   "display_name": "Python 3",
   "language": "python",
   "name": "python3"
  },
  "language_info": {
   "codemirror_mode": {
    "name": "ipython",
    "version": 3
   },
   "file_extension": ".py",
   "mimetype": "text/x-python",
   "name": "python",
   "nbconvert_exporter": "python",
   "pygments_lexer": "ipython3",
   "version": "3.7.1"
  }
 },
 "nbformat": 4,
 "nbformat_minor": 2
}
