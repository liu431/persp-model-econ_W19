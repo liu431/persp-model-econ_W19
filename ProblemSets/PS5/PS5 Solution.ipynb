{
 "cells": [
  {
   "cell_type": "code",
   "execution_count": 179,
   "metadata": {},
   "outputs": [],
   "source": [
    "import numpy as np\n",
    "import pandas as pd\n",
    "import numpy.linalg as lin\n",
    "import scipy.stats as sts\n",
    "import scipy.integrate as intgr\n",
    "import scipy.optimize as opt\n",
    "import matplotlib\n",
    "import matplotlib.pyplot as plt\n",
    "import warnings\n",
    "warnings.filterwarnings(\"ignore\")"
   ]
  },
  {
   "cell_type": "markdown",
   "metadata": {},
   "source": [
    "### Problem 1"
   ]
  },
  {
   "cell_type": "code",
   "execution_count": 149,
   "metadata": {},
   "outputs": [
    {
     "data": {
      "text/html": [
       "<div>\n",
       "<style scoped>\n",
       "    .dataframe tbody tr th:only-of-type {\n",
       "        vertical-align: middle;\n",
       "    }\n",
       "\n",
       "    .dataframe tbody tr th {\n",
       "        vertical-align: top;\n",
       "    }\n",
       "\n",
       "    .dataframe thead th {\n",
       "        text-align: right;\n",
       "    }\n",
       "</style>\n",
       "<table border=\"1\" class=\"dataframe\">\n",
       "  <thead>\n",
       "    <tr style=\"text-align: right;\">\n",
       "      <th></th>\n",
       "      <th>Income</th>\n",
       "    </tr>\n",
       "  </thead>\n",
       "  <tbody>\n",
       "    <tr>\n",
       "      <th>0</th>\n",
       "      <td>53711.544399</td>\n",
       "    </tr>\n",
       "    <tr>\n",
       "      <th>1</th>\n",
       "      <td>99731.233349</td>\n",
       "    </tr>\n",
       "    <tr>\n",
       "      <th>2</th>\n",
       "      <td>84773.605417</td>\n",
       "    </tr>\n",
       "    <tr>\n",
       "      <th>3</th>\n",
       "      <td>75184.025931</td>\n",
       "    </tr>\n",
       "    <tr>\n",
       "      <th>4</th>\n",
       "      <td>73390.955933</td>\n",
       "    </tr>\n",
       "  </tbody>\n",
       "</table>\n",
       "</div>"
      ],
      "text/plain": [
       "         Income\n",
       "0  53711.544399\n",
       "1  99731.233349\n",
       "2  84773.605417\n",
       "3  75184.025931\n",
       "4  73390.955933"
      ]
     },
     "execution_count": 149,
     "metadata": {},
     "output_type": "execute_result"
    }
   ],
   "source": [
    "df=pd.read_csv(\"data/incomes.txt\",names=['Income'])\n",
    "df.head()"
   ]
  },
  {
   "cell_type": "markdown",
   "metadata": {},
   "source": [
    "##### a"
   ]
  },
  {
   "cell_type": "code",
   "execution_count": 150,
   "metadata": {},
   "outputs": [
    {
     "data": {
      "image/png": "[encoded data removed]",
      "text/plain": [
       "<Figure size 432x288 with 1 Axes>"
      ]
     },
     "metadata": {
      "needs_background": "light"
     },
     "output_type": "display_data"
    }
   ],
   "source": [
    "num_bins = 30\n",
    "plt.hist(df['Income'], num_bins, normed=True, edgecolor='k')\n",
    "plt.title('Annual Incomes of MACSS Graduates: 2018-2020', fontsize=15)\n",
    "plt.xlabel('Annual Income')\n",
    "plt.ylabel('Percent of Incomes')\n",
    "plt.xlim([1, 150000])\n",
    "plt.show()"
   ]
  },
  {
   "cell_type": "markdown",
   "metadata": {},
   "source": [
    "##### b"
   ]
  },
  {
   "cell_type": "code",
   "execution_count": 151,
   "metadata": {},
   "outputs": [],
   "source": [
    "# Define function that generates values of a lognormal pdf\n",
    "def trunc_lognorm_pdf(xvals, mu, sigma, cut_lb, cut_ub):\n",
    "\n",
    "    if cut_ub == 'None' and cut_lb == 'None':\n",
    "        prob_notcut = 1.0\n",
    "    elif cut_ub == 'None' and cut_lb != 'None':\n",
    "        prob_notcut = 1.0 - sts.lognorm.cdf(cut_lb, sigma, scale=np.exp(mu))\n",
    "    elif cut_ub != 'None' and cut_lb == 'None':\n",
    "        prob_notcut = sts.lognorm.cdf(cut_ub, sigma,scale=np.exp(mu))\n",
    "    elif cut_ub != 'None' and cut_lb != 'None':\n",
    "        prob_notcut = (sts.lognorm.cdf(cut_ub, sigma,scale=np.exp(mu)) -\n",
    "                       sts.lognorm.cdf(cut_lb, sigma,scale=np.exp(mu)))\n",
    "            \n",
    "    pdf_vals    = ((1/(xvals*sigma * np.sqrt(2 * np.pi)) *\n",
    "                    np.exp( - (np.log(xvals) - mu)**2 / (2 * sigma**2))) /\n",
    "                    prob_notcut)\n",
    "    \n",
    "    return pdf_vals"
   ]
  },
  {
   "cell_type": "code",
   "execution_count": 152,
   "metadata": {},
   "outputs": [],
   "source": [
    "#This function computes the two data moments for GMM (mean(data), S.D.(data)).\n",
    "def data_moments(xvals):\n",
    "\n",
    "    mean_data = xvals.mean()\n",
    "    std_data = xvals.std()\n",
    "    \n",
    "    return mean_data, std_data"
   ]
  },
  {
   "cell_type": "code",
   "execution_count": 153,
   "metadata": {},
   "outputs": [],
   "source": [
    "#This function computes the two model moments for GMM (mean(model data), S.D.(model data)).\n",
    "def model_moments(mu, sigma, cut_lb, cut_ub):\n",
    "   \n",
    "    xfx = lambda x: x * trunc_lognorm_pdf(x, mu, sigma, cut_lb, cut_ub)\n",
    "    (mean_model, m_m_err) = intgr.quad(xfx, cut_lb, cut_ub)\n",
    "    x2fx = lambda x: ((x - mean_model) ** 2) * trunc_lognorm_pdf(x, mu, sigma, cut_lb, cut_ub) \n",
    "    (var_model, v_m_err) = intgr.quad(x2fx, cut_lb, cut_ub)\n",
    "    \n",
    "    return mean_model, np.sqrt(var_model)"
   ]
  },
  {
   "cell_type": "code",
   "execution_count": 154,
   "metadata": {},
   "outputs": [],
   "source": [
    "#This function computes the vector of moment errors for GMM.\n",
    "def err_vec(xvals, mu, sigma, cut_lb, cut_ub, simple):\n",
    "\n",
    "    mean_data, std_data = data_moments(xvals)\n",
    "    moms_data = np.array([[mean_data], [std_data]])\n",
    "    mean_model, std_model = model_moments(mu, sigma, cut_lb, cut_ub)\n",
    "    moms_model = np.array([[mean_model], [std_model]])\n",
    "    if simple:\n",
    "        err_vec = moms_model - moms_data\n",
    "    else:\n",
    "        err_vec = (moms_model - moms_data) / moms_data\n",
    "    \n",
    "    return err_vec"
   ]
  },
  {
   "cell_type": "code",
   "execution_count": 155,
   "metadata": {},
   "outputs": [],
   "source": [
    "def criterion(params, *args):\n",
    "    '''\n",
    "    --------------------------------------------------------------------\n",
    "    This function computes the GMM weighted sum of squared moment errors\n",
    "    criterion function value given parameter values and an estimate of\n",
    "    the weighting matrix.    \n",
    "    --------------------------------------------------------------------\n",
    "    '''\n",
    "    mu, sigma = params\n",
    "    xvals, cut_lb, cut_ub, W = args\n",
    "    err = err_vec(xvals, mu, sigma, cut_lb, cut_ub, simple=False)\n",
    "    crit_val = err.T @ W @ err\n",
    "    \n",
    "    return crit_val"
   ]
  },
  {
   "cell_type": "code",
   "execution_count": 156,
   "metadata": {},
   "outputs": [
    {
     "name": "stdout",
     "output_type": "stream",
     "text": [
      "mu_GMM1= 11.33353348254704  sig_GMM1= 0.21386191435240418\n",
      "Mean of points = 85276.82360625808 , Standard Deviation of points = 18037.692869371564\n",
      "Mean of model = 85276.82405894266 , Standard Deviation = 18037.692424757075\n",
      "Error vector= [ 5.30841270e-09 -2.46491883e-08]\n",
      "GMM criterion function: [[6.35761731e-16]]\n"
     ]
    }
   ],
   "source": [
    "#Use identity matrix\n",
    "mu_init = 11\n",
    "sig_init = 0.5\n",
    "params_init = np.array([mu_init, sig_init])\n",
    "W_hat = np.eye(2) #Identity matrix\n",
    "gmm_args = (df['Income'], 0.0, 150000.0, W_hat)\n",
    "results = opt.minimize(criterion, params_init, args=(gmm_args), tol=1e-14,\n",
    "                       method='L-BFGS-B', bounds=((None, None), (1e-10, None)))\n",
    "mu_GMM1, sig_GMM1 = results.x\n",
    "print('mu_GMM1=', mu_GMM1, ' sig_GMM1=', sig_GMM1)\n",
    "\n",
    "mean_data, std_data = data_moments(df['Income'])\n",
    "mean_model, std_model = model_moments(mu_GMM1, sig_GMM1, 0.0, 150000.0)\n",
    "err1 = err_vec(df['Income'], mu_GMM1, sig_GMM1, 0.0, 150000.0, False).reshape(2,)\n",
    "print('Mean of points =', mean_data, ', Standard Deviation of points =', std_data)\n",
    "print('Mean of model =', mean_model, ', Standard Deviation =', std_model)\n",
    "print('Error vector=', err1)\n",
    "print('GMM criterion function:',results.fun)"
   ]
  },
  {
   "cell_type": "code",
   "execution_count": 157,
   "metadata": {},
   "outputs": [
    {
     "data": {
      "image/png": "[encoded data removed]",
      "text/plain": [
       "<Figure size 432x288 with 1 Axes>"
      ]
     },
     "metadata": {
      "needs_background": "light"
     },
     "output_type": "display_data"
    }
   ],
   "source": [
    "# Plot the histogram of the data\n",
    "num_bins = 30\n",
    "plt.hist(df['Income'], num_bins, normed=True, edgecolor='k')\n",
    "plt.title('Annual Incomes of MACSS Graduates: 2018-2020', fontsize=15)\n",
    "plt.xlabel('Annual Income')\n",
    "plt.ylabel('Percent of Incomes')\n",
    "plt.xlim([1, 150000])\n",
    "\n",
    "# Plot the estimated GMM PDF\n",
    "dist_pts = np.linspace(0, 150000, 1000)\n",
    "plt.plot(dist_pts, trunc_lognorm_pdf(dist_pts, mu_GMM1, sig_GMM1, 0.0, 150000),\n",
    "         linewidth=2, color='r', label='1: $\\mu_{GMM1}$,$\\sigma_{GMM1}$')\n",
    "plt.legend(loc='upper left')\n",
    "plt.show()"
   ]
  },
  {
   "cell_type": "markdown",
   "metadata": {},
   "source": [
    "##### c"
   ]
  },
  {
   "cell_type": "code",
   "execution_count": 158,
   "metadata": {},
   "outputs": [],
   "source": [
    "def get_Err_mat2(pts, mu, sigma, cut_lb, cut_ub, simple=False):\n",
    "    '''\n",
    "    --------------------------------------------------------------------\n",
    "    This function computes the R x N matrix of errors from each\n",
    "    observation for each moment. In this function, we have hard coded R = 2.\n",
    "    --------------------------------------------------------------------\n",
    "    '''\n",
    "    R = 2\n",
    "    N = len(pts)\n",
    "    Err_mat = np.zeros((R, N))\n",
    "    mean_model, std_model = model_moments(mu, sigma, cut_lb, cut_ub)\n",
    "    if simple:\n",
    "        Err_mat[0, :] = pts - mean_model\n",
    "        Err_mat[1, :] = ((mean_data - pts) ** 2) - std_model\n",
    "    else:\n",
    "        Err_mat[0, :] = (pts - mean_model) / mean_model\n",
    "        Err_mat[1, :] = (((mean_data - pts) ** 2) - std_model) / std_model\n",
    "    \n",
    "    return Err_mat"
   ]
  },
  {
   "cell_type": "code",
   "execution_count": 159,
   "metadata": {},
   "outputs": [
    {
     "name": "stdout",
     "output_type": "stream",
     "text": [
      "VCV2: \n",
      " [[4.45167060e-02 1.67963797e+03]\n",
      " [1.67963797e+03 9.49413425e+08]]\n",
      "W_hat2: \n",
      " [[ 2.40701669e+01 -4.25833101e-05]\n",
      " [-4.25833101e-05  1.12861743e-09]]\n"
     ]
    }
   ],
   "source": [
    "Err_mat =get_Err_mat2(df['Income'], mu_GMM1, sig_GMM1, 0.0, 150000.0, False)\n",
    "VCV2 = (1 / df['Income'].shape[0]) * (Err_mat @ Err_mat.T)\n",
    "print(\"VCV2:\",\"\\n\",VCV2)\n",
    "W_hat2 = lin.inv(VCV2)\n",
    "print(\"W_hat2:\",\"\\n\",W_hat2)"
   ]
  },
  {
   "cell_type": "code",
   "execution_count": 160,
   "metadata": {},
   "outputs": [
    {
     "name": "stdout",
     "output_type": "stream",
     "text": [
      "mu_GMM2= 11.333533472755567  sig_GMM2= 0.2138619137414828\n",
      "Mean of points = 85276.82360625808 , Standard Deviation of points = 18037.692869371564\n",
      "Mean of model = 85276.82324668273 , Standard Deviation of model = 18037.6922484816\n",
      "Error vector= [-4.21656596e-09 -3.44218060e-08]\n",
      "GMM criterion function: [[4.27941452e-16]]\n"
     ]
    }
   ],
   "source": [
    "#Use Two moments, two-step optimal weighting matrix\n",
    "gmm_args = (df['Income'], 0.0, 150000.0, W_hat2)\n",
    "params_init = np.array([mu_GMM1, sig_GMM1])\n",
    "results2 = opt.minimize(criterion, params_init, args=(gmm_args), tol=1e-14,\n",
    "                       method='L-BFGS-B', bounds=((None, None), (1e-10, None)))\n",
    "mu_GMM2, sig_GMM2 = results2.x\n",
    "print('mu_GMM2=', mu_GMM2, ' sig_GMM2=', sig_GMM2)\n",
    "\n",
    "mean_model2, std_model2 = model_moments(mu_GMM2, sig_GMM2, 0.0, 150000.0)\n",
    "err2 = err_vec(df['Income'], mu_GMM2, sig_GMM2, 0.0, 150000.0, False).reshape(2,)\n",
    "print('Mean of points =', mean_data, ', Standard Deviation of points =', std_data)\n",
    "print('Mean of model =', mean_model2, ', Standard Deviation of model =', std_model2)\n",
    "print('Error vector=', err2)\n",
    "print('GMM criterion function:',results2.fun)"
   ]
  },
  {
   "cell_type": "code",
   "execution_count": 161,
   "metadata": {},
   "outputs": [
    {
     "data": {
      "image/png": "[encoded data removed]",
      "text/plain": [
       "<Figure size 432x288 with 1 Axes>"
      ]
     },
     "metadata": {
      "needs_background": "light"
     },
     "output_type": "display_data"
    }
   ],
   "source": [
    "# Plot the histogram of the data\n",
    "num_bins = 30\n",
    "plt.hist(df['Income'], num_bins, normed=True, edgecolor='k')\n",
    "plt.title('Annual Incomes of MACSS Graduates: 2018-2020', fontsize=15)\n",
    "plt.xlabel('Annual Income')\n",
    "plt.ylabel('Percent of Incomes')\n",
    "plt.xlim([1, 150000])\n",
    "\n",
    "# Plot the estimated GMM PDF with identity matrix\n",
    "plt.plot(dist_pts, trunc_lognorm_pdf(dist_pts, mu_GMM1, sig_GMM1, 0.0, 150000),\n",
    "         linewidth=2, color='r', label='1: $\\mu_{GMM1}$,$\\sigma_{GMM1}$')\n",
    "plt.legend(loc='upper left')\n",
    "\n",
    "# Plot the estimated GMM PDF with weighting matrix\n",
    "plt.plot(dist_pts, trunc_lognorm_pdf(dist_pts, mu_GMM2, sig_GMM2, 0.0, 150000),\n",
    "         linewidth=2, color='b', label='1: $\\mu_{GMM2}$,$\\sigma_{GMM2}$')\n",
    "plt.legend(loc='upper left')\n",
    "plt.show()"
   ]
  },
  {
   "cell_type": "markdown",
   "metadata": {},
   "source": [
    "##### d"
   ]
  },
  {
   "cell_type": "code",
   "execution_count": 162,
   "metadata": {},
   "outputs": [],
   "source": [
    "def data_moments3(xvals):\n",
    "    '''\n",
    "    --------------------------------------------------------------------\n",
    "    This function computes the three data moments for GMM\n",
    "    (binpct_1, binpct_2, binpct_3).\n",
    "    --------------------------------------------------------------------\n",
    "    '''\n",
    "    bpct_1_dat = xvals[xvals <75000].shape[0] / xvals.shape[0]\n",
    "    bpct_2_dat = (xvals[(xvals >=75000) & (xvals < 100000)].shape[0] /\n",
    "                  xvals.shape[0])\n",
    "    bpct_3_dat = xvals[xvals >= 100000].shape[0] / xvals.shape[0]\n",
    "\n",
    "    return bpct_1_dat, bpct_2_dat, bpct_3_dat"
   ]
  },
  {
   "cell_type": "code",
   "execution_count": 163,
   "metadata": {},
   "outputs": [],
   "source": [
    "def model_moments3(mu, sigma, cut_lb, cut_ub):\n",
    "    '''\n",
    "    --------------------------------------------------------------------\n",
    "    This function computes the three model moments for GMM\n",
    "    (binpct_1, binpct_2, binpct_3, binpct_4).\n",
    "    --------------------------------------------------------------------\n",
    "    '''\n",
    "    xfx = lambda x: trunc_lognorm_pdf(x, mu, sigma, cut_lb, cut_ub)\n",
    "    (bpct_1_mod, bp_1_err) = intgr.quad(xfx, 0.0, 75000)\n",
    "    (bpct_2_mod, bp_2_err) = intgr.quad(xfx, 75000, 100000)\n",
    "    (bpct_3_mod, bp_3_err) = intgr.quad(xfx, 100000, 150000)\n",
    "    \n",
    "    return bpct_1_mod, bpct_2_mod, bpct_3_mod"
   ]
  },
  {
   "cell_type": "code",
   "execution_count": 164,
   "metadata": {},
   "outputs": [],
   "source": [
    "def err_vec3(xvals, mu, sigma, cut_lb, cut_ub, simple):\n",
    "    '''\n",
    "    --------------------------------------------------------------------\n",
    "    This function computes the vector of moment errors (in percent\n",
    "    deviation from the data moment vector) for GMM.\n",
    "    --------------------------------------------------------------------\n",
    "    '''\n",
    "    bpct_1_dat, bpct_2_dat, bpct_3_dat = data_moments3(xvals)\n",
    "    moms_data = np.array([[bpct_1_dat], [bpct_2_dat], [bpct_3_dat]])\n",
    "    bpct_1_mod, bpct_2_mod, bpct_3_mod = model_moments3(mu, sigma, cut_lb, cut_ub)\n",
    "    moms_model = np.array([[bpct_1_mod], [bpct_2_mod], [bpct_3_mod]])\n",
    "    if simple:\n",
    "        err_vec = moms_model - moms_data\n",
    "    else:\n",
    "        err_vec = (moms_model - moms_data) / moms_data\n",
    "    \n",
    "    return err_vec"
   ]
  },
  {
   "cell_type": "code",
   "execution_count": 165,
   "metadata": {},
   "outputs": [],
   "source": [
    "def criterion3(params, *args):\n",
    "    '''\n",
    "    --------------------------------------------------------------------\n",
    "    This function computes the GMM weighted sum of squared moment errors\n",
    "    criterion function value given parameter values and an estimate of\n",
    "    the weighting matrix.\n",
    "    --------------------------------------------------------------------   \n",
    "    '''\n",
    "    mu, sigma = params\n",
    "    xvals, cut_lb, cut_ub, W = args\n",
    "    err = err_vec3(xvals, mu, sigma, cut_lb, cut_ub, simple=False)\n",
    "    crit_val = err.T @ W @ err \n",
    "    \n",
    "    return crit_val"
   ]
  },
  {
   "cell_type": "code",
   "execution_count": 166,
   "metadata": {},
   "outputs": [
    {
     "name": "stdout",
     "output_type": "stream",
     "text": [
      "mu_GMM1_3= 11.3367051627647  sig_GMM1_3= 0.21151353494382988\n",
      "Error vector= [ 1.61522382e-07 -7.19526214e-08 -6.24020183e-08]\n",
      "GMM criterion function: [[3.51606715e-14]]\n"
     ]
    },
    {
     "data": {
      "text/html": [
       "<div>\n",
       "<style scoped>\n",
       "    .dataframe tbody tr th:only-of-type {\n",
       "        vertical-align: middle;\n",
       "    }\n",
       "\n",
       "    .dataframe tbody tr th {\n",
       "        vertical-align: top;\n",
       "    }\n",
       "\n",
       "    .dataframe thead th {\n",
       "        text-align: right;\n",
       "    }\n",
       "</style>\n",
       "<table border=\"1\" class=\"dataframe\">\n",
       "  <thead>\n",
       "    <tr style=\"text-align: right;\">\n",
       "      <th></th>\n",
       "      <th>Data Moments</th>\n",
       "      <th>Model Momets</th>\n",
       "    </tr>\n",
       "  </thead>\n",
       "  <tbody>\n",
       "    <tr>\n",
       "      <th>Percent &lt;75000</th>\n",
       "      <td>0.3</td>\n",
       "      <td>0.3</td>\n",
       "    </tr>\n",
       "    <tr>\n",
       "      <th>Percent 75000~100000</th>\n",
       "      <td>0.5</td>\n",
       "      <td>0.5</td>\n",
       "    </tr>\n",
       "    <tr>\n",
       "      <th>Percent &gt;=100000</th>\n",
       "      <td>0.2</td>\n",
       "      <td>0.2</td>\n",
       "    </tr>\n",
       "  </tbody>\n",
       "</table>\n",
       "</div>"
      ],
      "text/plain": [
       "                      Data Moments  Model Momets\n",
       "Percent <75000                 0.3           0.3\n",
       "Percent 75000~100000           0.5           0.5\n",
       "Percent >=100000               0.2           0.2"
      ]
     },
     "execution_count": 166,
     "metadata": {},
     "output_type": "execute_result"
    }
   ],
   "source": [
    "#Estimate the lognormal PDF to fit the data by GMM using different moments\n",
    "W_hat1_3 = np.eye(3)\n",
    "gmm_args = (df['Income'], 0.0, 150000.0, W_hat1_3)\n",
    "\n",
    "results_3 = opt.minimize(criterion3, params_init, args=(gmm_args),\n",
    "                       method='L-BFGS-B', bounds=((1e-10, None), (1e-10, None)))\n",
    "\n",
    "mu_GMM1_3, sig_GMM1_3 = results_3.x\n",
    "print('mu_GMM1_3=', mu_GMM1_3, ' sig_GMM1_3=', sig_GMM1_3)\n",
    "err3 = err_vec3(df['Income'], mu_GMM1_3, sig_GMM1_3, 0.0, 150000.0, False).reshape(3,)\n",
    "\n",
    "bpct_1_dat, bpct_2_dat, bpct_3_dat=data_moments3(df['Income'])\n",
    "pert1, pert2, pert3 = model_moments3(mu_GMM1_3, sig_GMM1_3, 0.0, 150000.0)\n",
    "\n",
    "print('Error vector=', err3)\n",
    "print('GMM criterion function:',results_3.fun)\n",
    "mm=pd.DataFrame({'Data Moments':[bpct_1_dat, bpct_2_dat, bpct_3_dat],\n",
    "                'Model Momets':[pert1, pert2, pert3]},\n",
    "                index=['Percent <75000','Percent 75000~100000','Percent >=100000'])\n",
    "mm"
   ]
  },
  {
   "cell_type": "code",
   "execution_count": 167,
   "metadata": {},
   "outputs": [
    {
     "data": {
      "image/png": "[encoded data removed]",
      "text/plain": [
       "<Figure size 432x288 with 1 Axes>"
      ]
     },
     "metadata": {
      "needs_background": "light"
     },
     "output_type": "display_data"
    }
   ],
   "source": [
    "# Plot the histogram of the data\n",
    "num_bins = 30\n",
    "plt.hist(df['Income'], num_bins, normed=True, edgecolor='k')\n",
    "plt.title('Annual Incomes of MACSS Graduates: 2018-2020', fontsize=15)\n",
    "plt.xlabel('Annual Income')\n",
    "plt.ylabel('Percent of Incomes')\n",
    "plt.xlim([1, 150000])\n",
    "\n",
    "# Plot the estimated GMM PDF using three moments with identity matrix\n",
    "plt.plot(dist_pts, trunc_lognorm_pdf(dist_pts, mu_GMM1_3, sig_GMM1_3, 0.0, 150000),\n",
    "         linewidth=2, color='r', label='1: $\\mu_{GMM3}$,$\\sigma_{GMM3}$')\n",
    "plt.legend(loc='upper left')\n",
    "\n",
    "plt.show()"
   ]
  },
  {
   "cell_type": "markdown",
   "metadata": {},
   "source": [
    "##### e"
   ]
  },
  {
   "cell_type": "code",
   "execution_count": 168,
   "metadata": {},
   "outputs": [],
   "source": [
    "def get_Err_mat3(pts, mu, sigma, cut_lb, cut_ub, simple=False):\n",
    "    '''\n",
    "    --------------------------------------------------------------------\n",
    "    This function computes the R x N matrix of errors from each\n",
    "    observation for each moment. In this function, we have hard coded R = 3.\n",
    "    --------------------------------------------------------------------\n",
    "    '''\n",
    "    R = 3\n",
    "    N = len(pts)\n",
    "    Err_mat = np.zeros((R, N))\n",
    "    pct_1_mod, pct_2_mod, pct_3_mod = \\\n",
    "        model_moments3(mu, sigma, cut_lb, cut_ub)\n",
    "    if simple:\n",
    "        pts_in_grp1 = pts < 75000\n",
    "        Err_mat[0, :] = pts_in_grp1 - pct_1_mod\n",
    "        pts_in_grp2 = (pts >= 75000) & (pts < 100000)\n",
    "        Err_mat[1, :] = pts_in_grp2 - pct_2_mod\n",
    "        pts_in_grp3 = pts >= 100000\n",
    "        Err_mat[2, :] = pts_in_grp3 - pct_3_mod\n",
    "\n",
    "    else:\n",
    "        pts_in_grp1 = pts < 75000\n",
    "        Err_mat[0, :] = (pts_in_grp1 - pct_1_mod) / pct_1_mod\n",
    "        pts_in_grp2 = (pts >= 75000) & (pts < 100000)\n",
    "        Err_mat[1, :] = (pts_in_grp2 - pct_2_mod) / pct_2_mod\n",
    "        pts_in_grp3 = pts >= 100000\n",
    "        Err_mat[2, :] = (pts_in_grp3 - pct_3_mod) / pct_3_mod\n",
    "    \n",
    "    return Err_mat"
   ]
  },
  {
   "cell_type": "code",
   "execution_count": 169,
   "metadata": {},
   "outputs": [
    {
     "name": "stdout",
     "output_type": "stream",
     "text": [
      "VCV2_3: \n",
      " [[ 2.33333258 -0.99999991 -0.9999999 ]\n",
      " [-0.99999991  1.00000014 -1.00000013]\n",
      " [-0.9999999  -1.00000013  4.0000005 ]]\n",
      "W_hat2_3 \n",
      " [[ 0.25761775 -0.14958453 -0.01246539]\n",
      " [-0.14958453  0.11911361 -0.07340718]\n",
      " [-0.01246539 -0.07340718  0.20221604]]\n"
     ]
    }
   ],
   "source": [
    "Err_mat3w = get_Err_mat3(df['Income'], mu_GMM1_3, sig_GMM1_3, 0.0, 150000.0, False)\n",
    "VCV2_3w = (1 / df['Income'].shape[0]) * (Err_mat3w @ Err_mat3w.T)\n",
    "print(\"VCV2_3:\",\"\\n\",VCV2_3w)\n",
    "# We use the pseudo-inverse command here because the VCV matrix is poorly conditioned\n",
    "W_hat2_3 = lin.pinv(VCV2_3w)\n",
    "print(\"W_hat2_3\",\"\\n\",W_hat2_3)"
   ]
  },
  {
   "cell_type": "code",
   "execution_count": 170,
   "metadata": {},
   "outputs": [
    {
     "name": "stdout",
     "output_type": "stream",
     "text": [
      "mu_GMM1_3w= 11.33353348254704  sig_GMM1_3w= 0.21386191435240418\n",
      "Error vector= [ 0.02420924 -0.01108994 -0.00858902]\n",
      "GMM criterion function: [[0.00025207]]\n"
     ]
    },
    {
     "data": {
      "text/html": [
       "<div>\n",
       "<style scoped>\n",
       "    .dataframe tbody tr th:only-of-type {\n",
       "        vertical-align: middle;\n",
       "    }\n",
       "\n",
       "    .dataframe tbody tr th {\n",
       "        vertical-align: top;\n",
       "    }\n",
       "\n",
       "    .dataframe thead th {\n",
       "        text-align: right;\n",
       "    }\n",
       "</style>\n",
       "<table border=\"1\" class=\"dataframe\">\n",
       "  <thead>\n",
       "    <tr style=\"text-align: right;\">\n",
       "      <th></th>\n",
       "      <th>Data Moments</th>\n",
       "      <th>Model Momets</th>\n",
       "    </tr>\n",
       "  </thead>\n",
       "  <tbody>\n",
       "    <tr>\n",
       "      <th>Percent &lt;75000</th>\n",
       "      <td>0.3</td>\n",
       "      <td>0.307263</td>\n",
       "    </tr>\n",
       "    <tr>\n",
       "      <th>Percent 75000~100000</th>\n",
       "      <td>0.5</td>\n",
       "      <td>0.494455</td>\n",
       "    </tr>\n",
       "    <tr>\n",
       "      <th>Percent &gt;=100000</th>\n",
       "      <td>0.2</td>\n",
       "      <td>0.198282</td>\n",
       "    </tr>\n",
       "  </tbody>\n",
       "</table>\n",
       "</div>"
      ],
      "text/plain": [
       "                      Data Moments  Model Momets\n",
       "Percent <75000                 0.3      0.307263\n",
       "Percent 75000~100000           0.5      0.494455\n",
       "Percent >=100000               0.2      0.198282"
      ]
     },
     "execution_count": 170,
     "metadata": {},
     "output_type": "execute_result"
    }
   ],
   "source": [
    "gmm_args = (df['Income'], 0.0, 150000.0, W_hat2_3)\n",
    "results_4 = opt.minimize(criterion3, params_init, args=(gmm_args),method='L-BFGS-B')\n",
    "mu_GMM1_3w, sig_GMM1_3w = results_4.x\n",
    "print('mu_GMM1_3w=', mu_GMM1_3w, ' sig_GMM1_3w=', sig_GMM1_3w)\n",
    "err3w = err_vec3(df['Income'], mu_GMM1_3w, sig_GMM1_3w, 0.0, 150000.0, False).reshape(3,)\n",
    "\n",
    "pert1, pert2, pert3 = model_moments3(mu_GMM1_3w, sig_GMM1_3w, 0.0, 150000.0)\n",
    "\n",
    "print('Error vector=', err3w)\n",
    "print('GMM criterion function:',results_4.fun)\n",
    "mm=pd.DataFrame({'Data Moments':[bpct_1_dat, bpct_2_dat, bpct_3_dat],\n",
    "                'Model Momets':[pert1, pert2, pert3]},\n",
    "                index=['Percent <75000','Percent 75000~100000','Percent >=100000'])\n",
    "mm"
   ]
  },
  {
   "cell_type": "code",
   "execution_count": 171,
   "metadata": {},
   "outputs": [
    {
     "data": {
      "image/png": "[encoded data removed]",
      "text/plain": [
       "<Figure size 432x288 with 1 Axes>"
      ]
     },
     "metadata": {
      "needs_background": "light"
     },
     "output_type": "display_data"
    }
   ],
   "source": [
    "# Plot the histogram of the data\n",
    "num_bins = 30\n",
    "plt.hist(df['Income'], num_bins, normed=True, edgecolor='k')\n",
    "plt.title('Annual Incomes of MACSS Graduates: 2018-2020', fontsize=15)\n",
    "plt.xlabel('Annual Income')\n",
    "plt.ylabel('Percent of Incomes')\n",
    "plt.xlim([1, 150000])\n",
    "\n",
    "# Plot the estimated GMM PDF using three moments with identity matrix\n",
    "plt.plot(dist_pts, trunc_lognorm_pdf(dist_pts, mu_GMM1_3w, sig_GMM1_3w, 0.0, 150000),\n",
    "         linewidth=2, color='r', label='1: $\\mu_{GMM3w}$,$\\sigma_{GMM3w}$')\n",
    "plt.legend(loc='upper left')\n",
    "\n",
    "plt.show()"
   ]
  },
  {
   "cell_type": "markdown",
   "metadata": {},
   "source": [
    "##### f"
   ]
  },
  {
   "cell_type": "code",
   "execution_count": 180,
   "metadata": {},
   "outputs": [],
   "source": [
    "mu=[mu_GMM1,mu_GMM2,mu_GMM1_3,mu_GMM1_3w]\n",
    "sig=[sig_GMM1,sig_GMM2,sig_GMM1_3,sig_GMM1_3w]\n",
    "GMMV=[results.fun,results2.fun,results_3.fun,results_4.fun]"
   ]
  },
  {
   "cell_type": "code",
   "execution_count": 183,
   "metadata": {},
   "outputs": [
    {
     "data": {
      "text/html": [
       "<div>\n",
       "<style scoped>\n",
       "    .dataframe tbody tr th:only-of-type {\n",
       "        vertical-align: middle;\n",
       "    }\n",
       "\n",
       "    .dataframe tbody tr th {\n",
       "        vertical-align: top;\n",
       "    }\n",
       "\n",
       "    .dataframe thead th {\n",
       "        text-align: right;\n",
       "    }\n",
       "</style>\n",
       "<table border=\"1\" class=\"dataframe\">\n",
       "  <thead>\n",
       "    <tr style=\"text-align: right;\">\n",
       "      <th></th>\n",
       "      <th>mu</th>\n",
       "      <th>sigma</th>\n",
       "      <th>GMM Fn Value</th>\n",
       "    </tr>\n",
       "  </thead>\n",
       "  <tbody>\n",
       "    <tr>\n",
       "      <th>2 moments+Identity Matrix</th>\n",
       "      <td>11.333533</td>\n",
       "      <td>0.213862</td>\n",
       "      <td>1.821290e-03</td>\n",
       "    </tr>\n",
       "    <tr>\n",
       "      <th>2 moments+Weighted Matrix</th>\n",
       "      <td>11.333533</td>\n",
       "      <td>0.213862</td>\n",
       "      <td>4.279415e-16</td>\n",
       "    </tr>\n",
       "    <tr>\n",
       "      <th>3 moments+Identity Matrix</th>\n",
       "      <td>11.336705</td>\n",
       "      <td>0.211514</td>\n",
       "      <td>3.516067e-14</td>\n",
       "    </tr>\n",
       "    <tr>\n",
       "      <th>3 moments+Weighted Matrix</th>\n",
       "      <td>11.333533</td>\n",
       "      <td>0.213862</td>\n",
       "      <td>2.520739e-04</td>\n",
       "    </tr>\n",
       "  </tbody>\n",
       "</table>\n",
       "</div>"
      ],
      "text/plain": [
       "                                  mu     sigma  GMM Fn Value\n",
       "2 moments+Identity Matrix  11.333533  0.213862  1.821290e-03\n",
       "2 moments+Weighted Matrix  11.333533  0.213862  4.279415e-16\n",
       "3 moments+Identity Matrix  11.336705  0.211514  3.516067e-14\n",
       "3 moments+Weighted Matrix  11.333533  0.213862  2.520739e-04"
      ]
     },
     "execution_count": 183,
     "metadata": {},
     "output_type": "execute_result"
    }
   ],
   "source": [
    "pd.DataFrame({\"mu\":mu,\"sigma\":sig,\"GMM Fn Value\":GMMV}\n",
    "            ,index=['2 moments+Identity Matrix','2 moments+Weighted Matrix',\n",
    "                   '3 moments+Identity Matrix','3 moments+Weighted Matrix']).astype(float)"
   ]
  },
  {
   "cell_type": "markdown",
   "metadata": {},
   "source": [
    "The best fitting model is from (c) as it has the lowest minimized GMM function value. \n",
    "\n",
    "This model uses the average and standard deviation of income as two moments with two-step optimal weighting matrix."
   ]
  },
  {
   "cell_type": "markdown",
   "metadata": {},
   "source": [
    "## Problem 2"
   ]
  },
  {
   "cell_type": "code",
   "execution_count": 174,
   "metadata": {},
   "outputs": [
    {
     "data": {
      "text/html": [
       "<div>\n",
       "<style scoped>\n",
       "    .dataframe tbody tr th:only-of-type {\n",
       "        vertical-align: middle;\n",
       "    }\n",
       "\n",
       "    .dataframe tbody tr th {\n",
       "        vertical-align: top;\n",
       "    }\n",
       "\n",
       "    .dataframe thead th {\n",
       "        text-align: right;\n",
       "    }\n",
       "</style>\n",
       "<table border=\"1\" class=\"dataframe\">\n",
       "  <thead>\n",
       "    <tr style=\"text-align: right;\">\n",
       "      <th></th>\n",
       "      <th>sick</th>\n",
       "      <th>age</th>\n",
       "      <th>children</th>\n",
       "      <th>avgtemp_winter</th>\n",
       "    </tr>\n",
       "  </thead>\n",
       "  <tbody>\n",
       "    <tr>\n",
       "      <th>0</th>\n",
       "      <td>1.67</td>\n",
       "      <td>57.47</td>\n",
       "      <td>3.04</td>\n",
       "      <td>54.10</td>\n",
       "    </tr>\n",
       "    <tr>\n",
       "      <th>1</th>\n",
       "      <td>0.71</td>\n",
       "      <td>26.77</td>\n",
       "      <td>1.20</td>\n",
       "      <td>36.54</td>\n",
       "    </tr>\n",
       "    <tr>\n",
       "      <th>2</th>\n",
       "      <td>1.39</td>\n",
       "      <td>41.85</td>\n",
       "      <td>2.31</td>\n",
       "      <td>32.38</td>\n",
       "    </tr>\n",
       "    <tr>\n",
       "      <th>3</th>\n",
       "      <td>1.37</td>\n",
       "      <td>51.27</td>\n",
       "      <td>2.46</td>\n",
       "      <td>52.94</td>\n",
       "    </tr>\n",
       "    <tr>\n",
       "      <th>4</th>\n",
       "      <td>1.45</td>\n",
       "      <td>44.22</td>\n",
       "      <td>2.72</td>\n",
       "      <td>45.90</td>\n",
       "    </tr>\n",
       "  </tbody>\n",
       "</table>\n",
       "</div>"
      ],
      "text/plain": [
       "   sick    age  children  avgtemp_winter\n",
       "0  1.67  57.47      3.04           54.10\n",
       "1  0.71  26.77      1.20           36.54\n",
       "2  1.39  41.85      2.31           32.38\n",
       "3  1.37  51.27      2.46           52.94\n",
       "4  1.45  44.22      2.72           45.90"
      ]
     },
     "execution_count": 174,
     "metadata": {},
     "output_type": "execute_result"
    }
   ],
   "source": [
    "df=pd.read_csv(\"data/sick.txt\").astype('float64')\n",
    "df.head()"
   ]
  },
  {
   "cell_type": "code",
   "execution_count": 175,
   "metadata": {},
   "outputs": [],
   "source": [
    "# Simple Moment errors.\n",
    "def err_vec(df,b0,b1,b2,b3):\n",
    "    \n",
    "    #Model Moments\n",
    "    yhat=b0+b1*df['age']+b2*df['children']+b3*df['avgtemp_winter']\n",
    "    \n",
    "    #Data Moments\n",
    "    y=df['sick']\n",
    "    \n",
    "    err_vec = yhat - y\n",
    "    \n",
    "    return err_vec"
   ]
  },
  {
   "cell_type": "code",
   "execution_count": 176,
   "metadata": {},
   "outputs": [],
   "source": [
    "def criterion(params, *args):\n",
    "    '''\n",
    "    --------------------------------------------------------------------\n",
    "    This function computes the GMM sum of squared moment errors\n",
    "    criterion function value given parameter values and a weighting matrix.    \n",
    "    --------------------------------------------------------------------\n",
    "    '''\n",
    "    \n",
    "    b0,b1,b2,b3 = params\n",
    "    df, W = args\n",
    "    err = err_vec(df,b0,b1,b2,b3)\n",
    "    crit_val = err.T @ W @ err\n",
    "    \n",
    "    return crit_val"
   ]
  },
  {
   "cell_type": "code",
   "execution_count": 177,
   "metadata": {},
   "outputs": [],
   "source": [
    "b0, b1, b2, b3 = 1, 0, 0, 0\n",
    "params_init = np.array([b0, b1, b2, b3])\n",
    "W_hat = np.eye(df.shape[0])\n",
    "gmm_args = (df, W_hat)\n",
    "results = opt.minimize(criterion, params_init, args=(gmm_args), tol=1e-14,method='L-BFGS-B')\n",
    "b0, b1, b2, b3 = results.x"
   ]
  },
  {
   "cell_type": "code",
   "execution_count": 178,
   "metadata": {},
   "outputs": [
    {
     "name": "stdout",
     "output_type": "stream",
     "text": [
      "Estimate of b0 0.2516448636612042\n",
      "Estimate of b1 0.012933470965564249\n",
      "Estimate of b2 0.40050098470289774\n",
      "Estimate of b3 -0.009991709711286762\n",
      "GMM criterion function: 0.0018212898060782808\n"
     ]
    }
   ],
   "source": [
    "print(\"Estimate of b0\",b0)\n",
    "print(\"Estimate of b1\",b1)\n",
    "print(\"Estimate of b2\",b2)\n",
    "print(\"Estimate of b3\",b3)\n",
    "print('GMM criterion function:',results.fun)"
   ]
  }
 ],
 "metadata": {
  "kernelspec": {
   "display_name": "Python 3",
   "language": "python",
   "name": "python3"
  },
  "language_info": {
   "codemirror_mode": {
    "name": "ipython",
    "version": 3
   },
   "file_extension": ".py",
   "mimetype": "text/x-python",
   "name": "python",
   "nbconvert_exporter": "python",
   "pygments_lexer": "ipython3",
   "version": "3.7.1"
  }
 },
 "nbformat": 4,
 "nbformat_minor": 2
}
