{
 "cells": [
  {
   "cell_type": "code",
   "execution_count": 207,
   "metadata": {},
   "outputs": [],
   "source": [
    "import pandas as pd\n",
    "import matplotlib.pyplot as plt\n",
    "import numpy as np\n",
    "import scipy.stats as sts\n",
    "import scipy.optimize as opt\n",
    "import warnings\n",
    "warnings.filterwarnings(\"ignore\")"
   ]
  },
  {
   "cell_type": "markdown",
   "metadata": {},
   "source": [
    "### Problem 1"
   ]
  },
  {
   "cell_type": "code",
   "execution_count": 208,
   "metadata": {},
   "outputs": [
    {
     "data": {
      "text/html": [
       "<div>\n",
       "<style scoped>\n",
       "    .dataframe tbody tr th:only-of-type {\n",
       "        vertical-align: middle;\n",
       "    }\n",
       "\n",
       "    .dataframe tbody tr th {\n",
       "        vertical-align: top;\n",
       "    }\n",
       "\n",
       "    .dataframe thead th {\n",
       "        text-align: right;\n",
       "    }\n",
       "</style>\n",
       "<table border=\"1\" class=\"dataframe\">\n",
       "  <thead>\n",
       "    <tr style=\"text-align: right;\">\n",
       "      <th></th>\n",
       "      <th>Income</th>\n",
       "    </tr>\n",
       "  </thead>\n",
       "  <tbody>\n",
       "    <tr>\n",
       "      <th>0</th>\n",
       "      <td>51253.497156</td>\n",
       "    </tr>\n",
       "    <tr>\n",
       "      <th>1</th>\n",
       "      <td>100630.320241</td>\n",
       "    </tr>\n",
       "    <tr>\n",
       "      <th>2</th>\n",
       "      <td>83009.276137</td>\n",
       "    </tr>\n",
       "    <tr>\n",
       "      <th>3</th>\n",
       "      <td>82882.106543</td>\n",
       "    </tr>\n",
       "    <tr>\n",
       "      <th>4</th>\n",
       "      <td>77338.294839</td>\n",
       "    </tr>\n",
       "  </tbody>\n",
       "</table>\n",
       "</div>"
      ],
      "text/plain": [
       "          Income\n",
       "0   51253.497156\n",
       "1  100630.320241\n",
       "2   83009.276137\n",
       "3   82882.106543\n",
       "4   77338.294839"
      ]
     },
     "execution_count": 208,
     "metadata": {},
     "output_type": "execute_result"
    }
   ],
   "source": [
    "df=pd.read_csv(\"data/incomes.txt\",names=['Income'])\n",
    "df.head()"
   ]
  },
  {
   "cell_type": "code",
   "execution_count": 209,
   "metadata": {},
   "outputs": [
    {
     "data": {
      "text/html": [
       "<div>\n",
       "<style scoped>\n",
       "    .dataframe tbody tr th:only-of-type {\n",
       "        vertical-align: middle;\n",
       "    }\n",
       "\n",
       "    .dataframe tbody tr th {\n",
       "        vertical-align: top;\n",
       "    }\n",
       "\n",
       "    .dataframe thead th {\n",
       "        text-align: right;\n",
       "    }\n",
       "</style>\n",
       "<table border=\"1\" class=\"dataframe\">\n",
       "  <thead>\n",
       "    <tr style=\"text-align: right;\">\n",
       "      <th></th>\n",
       "      <th>Income</th>\n",
       "    </tr>\n",
       "  </thead>\n",
       "  <tbody>\n",
       "    <tr>\n",
       "      <th>count</th>\n",
       "      <td>200.000000</td>\n",
       "    </tr>\n",
       "    <tr>\n",
       "      <th>mean</th>\n",
       "      <td>87588.930769</td>\n",
       "    </tr>\n",
       "    <tr>\n",
       "      <th>std</th>\n",
       "      <td>18081.166388</td>\n",
       "    </tr>\n",
       "    <tr>\n",
       "      <th>min</th>\n",
       "      <td>49278.801938</td>\n",
       "    </tr>\n",
       "    <tr>\n",
       "      <th>25%</th>\n",
       "      <td>74088.607447</td>\n",
       "    </tr>\n",
       "    <tr>\n",
       "      <th>50%</th>\n",
       "      <td>85801.697366</td>\n",
       "    </tr>\n",
       "    <tr>\n",
       "      <th>75%</th>\n",
       "      <td>100102.725206</td>\n",
       "    </tr>\n",
       "    <tr>\n",
       "      <th>max</th>\n",
       "      <td>135865.026796</td>\n",
       "    </tr>\n",
       "  </tbody>\n",
       "</table>\n",
       "</div>"
      ],
      "text/plain": [
       "              Income\n",
       "count     200.000000\n",
       "mean    87588.930769\n",
       "std     18081.166388\n",
       "min     49278.801938\n",
       "25%     74088.607447\n",
       "50%     85801.697366\n",
       "75%    100102.725206\n",
       "max    135865.026796"
      ]
     },
     "execution_count": 209,
     "metadata": {},
     "output_type": "execute_result"
    }
   ],
   "source": [
    "df.describe()"
   ]
  },
  {
   "cell_type": "markdown",
   "metadata": {},
   "source": [
    "##### a"
   ]
  },
  {
   "cell_type": "code",
   "execution_count": 210,
   "metadata": {},
   "outputs": [
    {
     "data": {
      "image/png": "[encoded data removed]",
      "text/plain": [
       "<Figure size 432x288 with 1 Axes>"
      ]
     },
     "metadata": {
      "needs_background": "light"
     },
     "output_type": "display_data"
    }
   ],
   "source": [
    "num_bins = 30\n",
    "plt.hist(df['Income'], num_bins, normed=True, edgecolor='k')\n",
    "plt.title('Annual Incomes of MACSS Graduates: 2018-2020', fontsize=15)\n",
    "plt.xlabel('Annual Income')\n",
    "plt.ylabel('Percent of Incomes')\n",
    "plt.xlim([1, 150000])\n",
    "plt.show()"
   ]
  },
  {
   "cell_type": "markdown",
   "metadata": {},
   "source": [
    "##### b"
   ]
  },
  {
   "cell_type": "code",
   "execution_count": 211,
   "metadata": {},
   "outputs": [],
   "source": [
    "# Define function that generates values of a lognormal pdf\n",
    "def trunc_lognorm_pdf(xvals, mu, sigma, cut_lb, cut_ub):\n",
    "\n",
    "    if cut_ub == 'None' and cut_lb == 'None':\n",
    "        prob_notcut = 1.0\n",
    "    elif cut_ub == 'None' and cut_lb != 'None':\n",
    "        prob_notcut = 1.0 - sts.lognorm.cdf(cut_lb, sigma, scale=np.exp(mu))\n",
    "    elif cut_ub != 'None' and cut_lb == 'None':\n",
    "        prob_notcut = sts.lognorm.cdf(cut_ub, sigma,scale=np.exp(mu))\n",
    "    elif cut_ub != 'None' and cut_lb != 'None':\n",
    "        prob_notcut = (sts.lognorm.cdf(cut_ub, sigma,scale=np.exp(mu)) -\n",
    "                       sts.lognorm.cdf(cut_lb, sigma,scale=np.exp(mu)))\n",
    "            \n",
    "    pdf_vals    = ((1/(xvals*sigma * np.sqrt(2 * np.pi)) *\n",
    "                    np.exp( - (np.log(xvals) - mu)**2 / (2 * sigma**2))) /\n",
    "                    prob_notcut)\n",
    "    \n",
    "    return pdf_vals"
   ]
  },
  {
   "cell_type": "code",
   "execution_count": 212,
   "metadata": {},
   "outputs": [
    {
     "data": {
      "image/png": "[encoded data removed]",
      "text/plain": [
       "<Figure size 432x288 with 1 Axes>"
      ]
     },
     "metadata": {
      "needs_background": "light"
     },
     "output_type": "display_data"
    }
   ],
   "source": [
    "# Plot smooth line with distribution (mu_1 = 11, sig_1 = 0.5)\n",
    "dist_pts = np.linspace(1, 150000, 3000)\n",
    "mu_1 = 11\n",
    "sig_1 = 0.5\n",
    "plt.plot(dist_pts, trunc_lognorm_pdf(dist_pts, mu_1,sig_1, 0, 150000),\n",
    "         linewidth=2, color='r', label='$\\mu$=11,$\\sigma$=0.5')\n",
    "plt.legend(loc='upper left')\n",
    "plt.show()"
   ]
  },
  {
   "cell_type": "code",
   "execution_count": 213,
   "metadata": {},
   "outputs": [
    {
     "name": "stdout",
     "output_type": "stream",
     "text": [
      "Log-likelihood: -2379.120591931827\n"
     ]
    }
   ],
   "source": [
    "# Define log likelihood function for the log normal distribution\n",
    "def log_lik_trunclognorm(xvals, mu, sigma, cut_lb, cut_ub):\n",
    "\n",
    "    pdf_vals = trunc_lognorm_pdf(xvals, mu, sigma, cut_lb, cut_ub)\n",
    "    ln_pdf_vals = np.log(pdf_vals)\n",
    "    log_lik_val = ln_pdf_vals.sum()\n",
    "    \n",
    "    return log_lik_val\n",
    "\n",
    "print('Log-likelihood:', log_lik_trunclognorm(df['Income'], mu_1, sig_1, 0, 150000))"
   ]
  },
  {
   "cell_type": "markdown",
   "metadata": {},
   "source": [
    "##### c"
   ]
  },
  {
   "cell_type": "code",
   "execution_count": 214,
   "metadata": {},
   "outputs": [],
   "source": [
    "def crit(params, *args):\n",
    "    \n",
    "    mu, sigma = params\n",
    "    xvals, cut_lb, cut_ub = args\n",
    "    log_lik_val = log_lik_trunclognorm(xvals, mu, abs(sigma), cut_lb, cut_ub)\n",
    "    neg_log_lik_val = -log_lik_val\n",
    "    \n",
    "    return neg_log_lik_val"
   ]
  },
  {
   "cell_type": "code",
   "execution_count": 215,
   "metadata": {},
   "outputs": [
    {
     "name": "stdout",
     "output_type": "stream",
     "text": [
      "ML estimates for µ= 11.361699975021795\n",
      "ML estimates for σ 0.2117432788726898\n",
      "Maximized Log Likelihood: -2240.934337511636\n"
     ]
    }
   ],
   "source": [
    "mu_init = 10\n",
    "sig_init = 0.5\n",
    "params_init = np.array([mu_init, sig_init])\n",
    "mle_args = (df['Income'], 0, 150000)\n",
    "results_uncstr = opt.minimize(crit, params_init, args=(mle_args))\n",
    "mu_MLE= results_uncstr.x[0]\n",
    "sig_MLE = -results_uncstr.x[1]\n",
    "print('ML estimates for µ=', mu_MLE)\n",
    "print('ML estimates for σ', sig_MLE)\n",
    "print(\"Maximized Log Likelihood:\",log_lik_trunclognorm(df['Income'], mu_MLE, sig_MLE, 0, 150000))"
   ]
  },
  {
   "cell_type": "code",
   "execution_count": 216,
   "metadata": {},
   "outputs": [
    {
     "data": {
      "image/png": "[encoded data removed]",
      "text/plain": [
       "<Figure size 432x288 with 1 Axes>"
      ]
     },
     "metadata": {
      "needs_background": "light"
     },
     "output_type": "display_data"
    }
   ],
   "source": [
    "# Plot the histogram of the data\n",
    "plt.hist(df['Income'], num_bins, normed=True, edgecolor='k')\n",
    "\n",
    "# Plot the PDF from (b)\n",
    "plt.plot(dist_pts, trunc_lognorm_pdf(dist_pts, mu_1, sig_1, 0, 150000),\n",
    "         linewidth=2, color='r', label='$\\mu$=11,$\\sigma$=0.5')\n",
    "plt.legend(loc='upper left')\n",
    "\n",
    "# Plot the MLE estimated distribution\n",
    "plt.plot(dist_pts, trunc_lognorm_pdf(dist_pts, mu_MLE,sig_MLE, 0, 150000),\n",
    "         linewidth=2, color='g', label='MLE: $\\mu$=11.86,$\\sigma$=-0.36')\n",
    "plt.legend(loc='upper left')\n",
    "\n",
    "plt.title('Annual Incomes of MACSS Graduates: 2018-2020', fontsize=20)\n",
    "plt.xlabel('Annual Income')\n",
    "plt.ylabel('Percent of Incomes')\n",
    "plt.xlim([0, 150000]) \n",
    "plt.show()"
   ]
  },
  {
   "cell_type": "code",
   "execution_count": 217,
   "metadata": {},
   "outputs": [
    {
     "name": "stdout",
     "output_type": "stream",
     "text": [
      "VCV(MLE) =  [[ 2.14293375e-04 -1.20173290e-05]\n",
      " [-1.20173290e-05  1.30638926e-04]]\n",
      "Standard error for mu estimate =  0.014638762766080225\n",
      "Standard error for sigma estimate =  0.011429738647692086\n",
      "mu percent 0.1288430674834128 %\n",
      "sig percent 5.397922762197421 %\n"
     ]
    }
   ],
   "source": [
    "vcv_mle = results_uncstr.hess_inv\n",
    "\n",
    "stderr_mu_mle = np.sqrt(vcv_mle[0,0])\n",
    "stderr_sig_mle = np.sqrt(vcv_mle[1,1])\n",
    "print('VCV(MLE) = ', vcv_mle)\n",
    "print('Standard error for mu estimate = ', stderr_mu_mle)\n",
    "print('Standard error for sigma estimate = ', stderr_sig_mle)\n",
    "print('mu percent', 100*stderr_mu_mle/mu_MLE,\"%\")\n",
    "print('sig percent', 100*stderr_sig_mle/sig_MLE,\"%\")"
   ]
  },
  {
   "cell_type": "markdown",
   "metadata": {},
   "source": [
    "##### d"
   ]
  },
  {
   "cell_type": "code",
   "execution_count": 218,
   "metadata": {},
   "outputs": [
    {
     "name": "stdout",
     "output_type": "stream",
     "text": [
      "hypothesis value log likelihood -2379.120591931827\n",
      "MLE log likelihood -2240.934337511636\n",
      "likelihood ratio value 276.3725088403826\n",
      "chi squared of H0 with 2 degrees of freedom p-value =  0.0\n"
     ]
    }
   ],
   "source": [
    "mu_new, sig_new = np.array([420, 130])\n",
    "log_lik_h0 = log_lik_trunclognorm(df['Income'], mu_1, sig_1, 0, 150000)\n",
    "print('hypothesis value log likelihood', log_lik_h0)\n",
    "log_lik_mle = log_lik_trunclognorm(df['Income'], mu_MLE, sig_MLE, 0, 150000)\n",
    "print('MLE log likelihood', log_lik_mle)\n",
    "LR_val = 2 * (log_lik_mle - log_lik_h0)\n",
    "print('likelihood ratio value', LR_val)\n",
    "pval_h0 = 1.0 - sts.chi2.cdf(LR_val, 2)\n",
    "print('chi squared of H0 with 2 degrees of freedom p-value = ', pval_h0)"
   ]
  },
  {
   "cell_type": "markdown",
   "metadata": {},
   "source": [
    "p-value is very small, so we can reject the null hypothesis that the probability that the data comes from is f(x|mu=11,sigma=0.5)."
   ]
  },
  {
   "cell_type": "markdown",
   "metadata": {},
   "source": [
    "##### e"
   ]
  },
  {
   "cell_type": "code",
   "execution_count": 219,
   "metadata": {},
   "outputs": [
    {
     "data": {
      "text/plain": [
       "0.2375540357115089"
      ]
     },
     "execution_count": 219,
     "metadata": {},
     "output_type": "execute_result"
    }
   ],
   "source": [
    "1-sts.lognorm.cdf(100000, sig_MLE, scale=np.exp(mu_MLE))"
   ]
  },
  {
   "cell_type": "markdown",
   "metadata": {},
   "source": [
    "There is 24% of the chance that I will earn more than $100000."
   ]
  },
  {
   "cell_type": "code",
   "execution_count": 220,
   "metadata": {},
   "outputs": [
    {
     "data": {
      "text/plain": [
       "0.25964393792847373"
      ]
     },
     "execution_count": 220,
     "metadata": {},
     "output_type": "execute_result"
    }
   ],
   "source": [
    "sts.lognorm.cdf(75000, sig_MLE, scale=np.exp(mu_MLE))"
   ]
  },
  {
   "cell_type": "markdown",
   "metadata": {},
   "source": [
    "There is 26% of the chance that I will earn less than $75000."
   ]
  },
  {
   "cell_type": "markdown",
   "metadata": {},
   "source": [
    "### Problem 2"
   ]
  },
  {
   "cell_type": "markdown",
   "metadata": {},
   "source": [
    "##### a"
   ]
  },
  {
   "cell_type": "code",
   "execution_count": 228,
   "metadata": {},
   "outputs": [
    {
     "data": {
      "text/html": [
       "<div>\n",
       "<style scoped>\n",
       "    .dataframe tbody tr th:only-of-type {\n",
       "        vertical-align: middle;\n",
       "    }\n",
       "\n",
       "    .dataframe tbody tr th {\n",
       "        vertical-align: top;\n",
       "    }\n",
       "\n",
       "    .dataframe thead th {\n",
       "        text-align: right;\n",
       "    }\n",
       "</style>\n",
       "<table border=\"1\" class=\"dataframe\">\n",
       "  <thead>\n",
       "    <tr style=\"text-align: right;\">\n",
       "      <th></th>\n",
       "      <th>sick</th>\n",
       "      <th>age</th>\n",
       "      <th>children</th>\n",
       "      <th>avgtemp_winter</th>\n",
       "    </tr>\n",
       "  </thead>\n",
       "  <tbody>\n",
       "    <tr>\n",
       "      <th>0</th>\n",
       "      <td>1.67</td>\n",
       "      <td>57.47</td>\n",
       "      <td>3.04</td>\n",
       "      <td>54.10</td>\n",
       "    </tr>\n",
       "    <tr>\n",
       "      <th>1</th>\n",
       "      <td>0.71</td>\n",
       "      <td>26.77</td>\n",
       "      <td>1.20</td>\n",
       "      <td>36.54</td>\n",
       "    </tr>\n",
       "    <tr>\n",
       "      <th>2</th>\n",
       "      <td>1.39</td>\n",
       "      <td>41.85</td>\n",
       "      <td>2.31</td>\n",
       "      <td>32.38</td>\n",
       "    </tr>\n",
       "    <tr>\n",
       "      <th>3</th>\n",
       "      <td>1.37</td>\n",
       "      <td>51.27</td>\n",
       "      <td>2.46</td>\n",
       "      <td>52.94</td>\n",
       "    </tr>\n",
       "    <tr>\n",
       "      <th>4</th>\n",
       "      <td>1.45</td>\n",
       "      <td>44.22</td>\n",
       "      <td>2.72</td>\n",
       "      <td>45.90</td>\n",
       "    </tr>\n",
       "  </tbody>\n",
       "</table>\n",
       "</div>"
      ],
      "text/plain": [
       "   sick    age  children  avgtemp_winter\n",
       "0  1.67  57.47      3.04           54.10\n",
       "1  0.71  26.77      1.20           36.54\n",
       "2  1.39  41.85      2.31           32.38\n",
       "3  1.37  51.27      2.46           52.94\n",
       "4  1.45  44.22      2.72           45.90"
      ]
     },
     "execution_count": 228,
     "metadata": {},
     "output_type": "execute_result"
    }
   ],
   "source": [
    "df=pd.read_csv(\"data/sick.txt\").astype('float64')\n",
    "df.head()"
   ]
  },
  {
   "cell_type": "code",
   "execution_count": 237,
   "metadata": {},
   "outputs": [
    {
     "data": {
      "text/html": [
       "<div>\n",
       "<style scoped>\n",
       "    .dataframe tbody tr th:only-of-type {\n",
       "        vertical-align: middle;\n",
       "    }\n",
       "\n",
       "    .dataframe tbody tr th {\n",
       "        vertical-align: top;\n",
       "    }\n",
       "\n",
       "    .dataframe thead th {\n",
       "        text-align: right;\n",
       "    }\n",
       "</style>\n",
       "<table border=\"1\" class=\"dataframe\">\n",
       "  <thead>\n",
       "    <tr style=\"text-align: right;\">\n",
       "      <th></th>\n",
       "      <th>sick</th>\n",
       "      <th>age</th>\n",
       "      <th>children</th>\n",
       "      <th>avgtemp_winter</th>\n",
       "    </tr>\n",
       "  </thead>\n",
       "  <tbody>\n",
       "    <tr>\n",
       "      <th>count</th>\n",
       "      <td>200.000000</td>\n",
       "      <td>200.000000</td>\n",
       "      <td>200.000000</td>\n",
       "      <td>200.000000</td>\n",
       "    </tr>\n",
       "    <tr>\n",
       "      <th>mean</th>\n",
       "      <td>1.008600</td>\n",
       "      <td>40.683850</td>\n",
       "      <td>1.674950</td>\n",
       "      <td>44.041250</td>\n",
       "    </tr>\n",
       "    <tr>\n",
       "      <th>std</th>\n",
       "      <td>0.504222</td>\n",
       "      <td>11.268686</td>\n",
       "      <td>0.969761</td>\n",
       "      <td>11.101977</td>\n",
       "    </tr>\n",
       "    <tr>\n",
       "      <th>min</th>\n",
       "      <td>0.040000</td>\n",
       "      <td>12.810000</td>\n",
       "      <td>0.000000</td>\n",
       "      <td>16.500000</td>\n",
       "    </tr>\n",
       "    <tr>\n",
       "      <th>25%</th>\n",
       "      <td>0.650000</td>\n",
       "      <td>33.967500</td>\n",
       "      <td>0.970000</td>\n",
       "      <td>36.112500</td>\n",
       "    </tr>\n",
       "    <tr>\n",
       "      <th>50%</th>\n",
       "      <td>0.960000</td>\n",
       "      <td>41.015000</td>\n",
       "      <td>1.560000</td>\n",
       "      <td>43.300000</td>\n",
       "    </tr>\n",
       "    <tr>\n",
       "      <th>75%</th>\n",
       "      <td>1.322500</td>\n",
       "      <td>47.750000</td>\n",
       "      <td>2.322500</td>\n",
       "      <td>52.172500</td>\n",
       "    </tr>\n",
       "    <tr>\n",
       "      <th>max</th>\n",
       "      <td>2.800000</td>\n",
       "      <td>74.890000</td>\n",
       "      <td>4.960000</td>\n",
       "      <td>68.600000</td>\n",
       "    </tr>\n",
       "  </tbody>\n",
       "</table>\n",
       "</div>"
      ],
      "text/plain": [
       "             sick         age    children  avgtemp_winter\n",
       "count  200.000000  200.000000  200.000000      200.000000\n",
       "mean     1.008600   40.683850    1.674950       44.041250\n",
       "std      0.504222   11.268686    0.969761       11.101977\n",
       "min      0.040000   12.810000    0.000000       16.500000\n",
       "25%      0.650000   33.967500    0.970000       36.112500\n",
       "50%      0.960000   41.015000    1.560000       43.300000\n",
       "75%      1.322500   47.750000    2.322500       52.172500\n",
       "max      2.800000   74.890000    4.960000       68.600000"
      ]
     },
     "execution_count": 237,
     "metadata": {},
     "output_type": "execute_result"
    }
   ],
   "source": [
    "df.describe()"
   ]
  },
  {
   "cell_type": "code",
   "execution_count": 230,
   "metadata": {},
   "outputs": [],
   "source": [
    "def norm_pdf(xvals, sig):\n",
    "    sig=abs(sig)\n",
    "    pdf_vals = (1/(sig*np.sqrt(2*np.pi)))*np.exp(-(xvals)**2 / (2*sig**2))                  \n",
    "    return pdf_vals"
   ]
  },
  {
   "cell_type": "code",
   "execution_count": 223,
   "metadata": {},
   "outputs": [],
   "source": [
    "def log_lik_norm(y, x1, x2, x3, b0, b1, b2, b3, sig):\n",
    "    \n",
    "    err=y-b0-b1*x1-b2*x2-b3*x3\n",
    "    pdf_vals = norm_pdf(err, sig)\n",
    "    ln_pdf_vals = np.log(pdf_vals)\n",
    "    log_lik_val = ln_pdf_vals.sum()\n",
    "    \n",
    "    return log_lik_val"
   ]
  },
  {
   "cell_type": "code",
   "execution_count": 224,
   "metadata": {},
   "outputs": [],
   "source": [
    "def crit2(params,*args):\n",
    "    \n",
    "    b0, b1, b2, b3, sig = params\n",
    "    y, x1, x2, x3 = args\n",
    "    log_lik_val = log_lik_norm(y, x1, x2, x3, b0, b1, b2, b3, sig)\n",
    "    neg_log_lik_val = -log_lik_val \n",
    "    \n",
    "    return neg_log_lik_val"
   ]
  },
  {
   "cell_type": "code",
   "execution_count": 225,
   "metadata": {},
   "outputs": [
    {
     "name": "stdout",
     "output_type": "stream",
     "text": [
      "beta 0= 0.2516462863009143\n",
      "beta 1= 0.012933350241651839\n",
      "beta 2= 0.4005020598812094\n",
      "beta 3= -0.009991671522641493\n",
      "sigma= 0.0030177004489735067\n",
      "Value of the log likelihood function: 876.8650468414168\n"
     ]
    }
   ],
   "source": [
    "b0_init, b1_init, b2_init, b3_init, sig_init = (0.2,0,0,0,1)\n",
    "y=df['sick']\n",
    "x1, x2, x3 = df['age'], df['children'], df['avgtemp_winter']\n",
    "params_init = np.array([b0_init, b1_init, b2_init, b3_init, sig_init])\n",
    "results = opt.minimize(crit2, params_init,(y, x1, x2, x3))\n",
    "b0_MLE, b1_MLE, b2_MLE, b3_MLE, sig_MLE = results.x\n",
    "print('beta 0=', b0_MLE)\n",
    "print('beta 1=', b1_MLE)\n",
    "print('beta 2=', b2_MLE)\n",
    "print('beta 3=', b3_MLE)\n",
    "print('sigma=', sig_MLE)\n",
    "print(\"Value of the log likelihood function:\",-results.fun)"
   ]
  },
  {
   "cell_type": "code",
   "execution_count": 226,
   "metadata": {},
   "outputs": [
    {
     "name": "stdout",
     "output_type": "stream",
     "text": [
      "VCV(MLE) =  [[ 1.08579401e-06  4.52195731e-09 -1.47000525e-07 -2.20502350e-08\n",
      "   5.57249528e-09]\n",
      " [ 4.52195731e-09  4.20615273e-09 -3.71445246e-08 -2.57941093e-09\n",
      "  -1.28317610e-10]\n",
      " [-1.47000525e-07 -3.71445246e-08  3.77442634e-07  2.33178375e-08\n",
      "   6.82198342e-10]\n",
      " [-2.20502350e-08 -2.57941093e-09  2.33178375e-08  1.99610060e-09\n",
      "  -2.42837085e-11]\n",
      " [ 5.57249528e-09 -1.28317610e-10  6.82198342e-10 -2.42837085e-11\n",
      "   2.31215973e-08]]\n"
     ]
    }
   ],
   "source": [
    "vcv_mle = results.hess_inv\n",
    "print('VCV(MLE) = ', vcv_mle)"
   ]
  },
  {
   "cell_type": "code",
   "execution_count": 245,
   "metadata": {},
   "outputs": [
    {
     "data": {
      "image/png": "[encoded data removed]",
      "text/plain": [
       "<Figure size 432x288 with 1 Axes>"
      ]
     },
     "metadata": {
      "needs_background": "light"
     },
     "output_type": "display_data"
    }
   ],
   "source": [
    "# Plot the histogram of the data\n",
    "plt.hist(y-b0_MLE-b1_MLE*x1-b2_MLE*x2-b3_MLE*x3, num_bins, normed=True, edgecolor='k')\n",
    "\n",
    "dist_pts=np.linspace(-0.006,0.006,1000)\n",
    "plt.plot(dist_pts, norm_pdf(dist_pts, sig_MLE),\n",
    "         linewidth=2, color='r', label='$\\mu$=0,$\\sigma$=0.003')\n",
    "plt.legend(loc='upper left', fontsize=10)\n",
    "\n",
    "plt.title('Histogram of epsilons', fontsize=20)\n",
    "plt.xlabel('Epsilon')\n",
    "plt.ylabel('Percent of Epsilon')\n",
    "plt.show()"
   ]
  },
  {
   "cell_type": "markdown",
   "metadata": {},
   "source": [
    "##### b"
   ]
  },
  {
   "cell_type": "code",
   "execution_count": 249,
   "metadata": {},
   "outputs": [
    {
     "name": "stdout",
     "output_type": "stream",
     "text": [
      "hypothesis value log likelihood -2253.700688042125\n",
      "MLE log likelihood 876.8650468414168\n",
      "likelihood ratio value 6261.131469767083\n",
      "Chi squared of H0 with 5 degrees of freedom p-value =  0.0\n"
     ]
    }
   ],
   "source": [
    "b0_t, b1_t, b2_t, b3_t, sig_t = 1, 0, 0, 0, 0.1\n",
    "log_lik_h0 = log_lik_norm(y, x1, x2, x3, b0_t, b1_t, b2_t, b3_t, sig_t)\n",
    "print('hypothesis value log likelihood', log_lik_h0)\n",
    "print('MLE log likelihood', -results.fun)\n",
    "LR_val = 2 * ((-results.fun)-log_lik_h0)\n",
    "print('likelihood ratio value', LR_val)\n",
    "pval_h0 = 1.0 - sts.chi2.cdf(LR_val, 5)\n",
    "print('Chi squared of H0 with 5 degrees of freedom p-value = ', pval_h0)"
   ]
  },
  {
   "cell_type": "markdown",
   "metadata": {},
   "source": [
    "We could reject the null hypothesis that age, number of children, and average winter temperature have no effect on the number of sick days. So there is 0% that age, number of children, and average winter temperature have no effect on the number of sick days."
   ]
  }
 ],
 "metadata": {
  "kernelspec": {
   "display_name": "Python 3",
   "language": "python",
   "name": "python3"
  },
  "language_info": {
   "codemirror_mode": {
    "name": "ipython",
    "version": 3
   },
   "file_extension": ".py",
   "mimetype": "text/x-python",
   "name": "python",
   "nbconvert_exporter": "python",
   "pygments_lexer": "ipython3",
   "version": "3.7.1"
  }
 },
 "nbformat": 4,
 "nbformat_minor": 2
}
